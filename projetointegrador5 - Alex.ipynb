{
 "cells": [
  {
   "cell_type": "markdown",
   "id": "e0c0b49f-d430-4a8c-aa8c-f6719ab73a85",
   "metadata": {},
   "source": [
    "# Projeto Integração I"
   ]
  },
  {
   "cell_type": "markdown",
   "id": "11a960d4",
   "metadata": {},
   "source": [
    "# Importação de Bibliotecas"
   ]
  },
  {
   "cell_type": "code",
   "execution_count": 25,
   "id": "8dd42d43-f89d-44e5-96f2-c1585ec6240e",
   "metadata": {},
   "outputs": [],
   "source": [
    "import numpy as np\n",
    "import pandas as pd\n",
    "import seaborn as sns\n",
    "import geopandas as gpd\n",
    "import matplotlib.pyplot as plt\n",
    "import descartes\n",
    "import shapely.wkt\n",
    "import pyproj\n",
    "from shapely.geometry import Point"
   ]
  },
  {
   "cell_type": "markdown",
   "id": "021f5176",
   "metadata": {},
   "source": [
    "# Importação do Data Frame\n",
    "\n",
    "Identificamos que os dados a serem lidos estão em um arquivo .csv e usamos o método read_csv do pandas para passar os dados em um formato de DataFrame"
   ]
  },
  {
   "cell_type": "code",
   "execution_count": 26,
   "id": "d5a00dec-1bbd-4973-bf42-cb132cf0e57f",
   "metadata": {},
   "outputs": [
    {
     "ename": "FileNotFoundError",
     "evalue": "[Errno 2] No such file or directory: '../Data/Real_State_Properati.csv'",
     "output_type": "error",
     "traceback": [
      "\u001b[1;31m---------------------------------------------------------------------------\u001b[0m",
      "\u001b[1;31mFileNotFoundError\u001b[0m                         Traceback (most recent call last)",
      "Input \u001b[1;32mIn [26]\u001b[0m, in \u001b[0;36m<cell line: 2>\u001b[1;34m()\u001b[0m\n\u001b[0;32m      1\u001b[0m data_location \u001b[38;5;241m=\u001b[39m \u001b[38;5;124m\"\u001b[39m\u001b[38;5;124m../Data/Real_State_Properati.csv\u001b[39m\u001b[38;5;124m\"\u001b[39m\n\u001b[1;32m----> 2\u001b[0m df_prop \u001b[38;5;241m=\u001b[39m \u001b[43mpd\u001b[49m\u001b[38;5;241;43m.\u001b[39;49m\u001b[43mread_csv\u001b[49m\u001b[43m(\u001b[49m\u001b[43mdata_location\u001b[49m\u001b[43m,\u001b[49m\u001b[43m \u001b[49m\u001b[43msep\u001b[49m\u001b[43m \u001b[49m\u001b[38;5;241;43m=\u001b[39;49m\u001b[43m \u001b[49m\u001b[38;5;124;43m'\u001b[39;49m\u001b[38;5;130;43;01m\\t\u001b[39;49;00m\u001b[38;5;124;43m'\u001b[39;49m\u001b[43m)\u001b[49m\n",
      "File \u001b[1;32m~\\anaconda3\\envs\\Alex\\lib\\site-packages\\pandas\\util\\_decorators.py:311\u001b[0m, in \u001b[0;36mdeprecate_nonkeyword_arguments.<locals>.decorate.<locals>.wrapper\u001b[1;34m(*args, **kwargs)\u001b[0m\n\u001b[0;32m    305\u001b[0m \u001b[38;5;28;01mif\u001b[39;00m \u001b[38;5;28mlen\u001b[39m(args) \u001b[38;5;241m>\u001b[39m num_allow_args:\n\u001b[0;32m    306\u001b[0m     warnings\u001b[38;5;241m.\u001b[39mwarn(\n\u001b[0;32m    307\u001b[0m         msg\u001b[38;5;241m.\u001b[39mformat(arguments\u001b[38;5;241m=\u001b[39marguments),\n\u001b[0;32m    308\u001b[0m         \u001b[38;5;167;01mFutureWarning\u001b[39;00m,\n\u001b[0;32m    309\u001b[0m         stacklevel\u001b[38;5;241m=\u001b[39mstacklevel,\n\u001b[0;32m    310\u001b[0m     )\n\u001b[1;32m--> 311\u001b[0m \u001b[38;5;28;01mreturn\u001b[39;00m func(\u001b[38;5;241m*\u001b[39margs, \u001b[38;5;241m*\u001b[39m\u001b[38;5;241m*\u001b[39mkwargs)\n",
      "File \u001b[1;32m~\\anaconda3\\envs\\Alex\\lib\\site-packages\\pandas\\io\\parsers\\readers.py:680\u001b[0m, in \u001b[0;36mread_csv\u001b[1;34m(filepath_or_buffer, sep, delimiter, header, names, index_col, usecols, squeeze, prefix, mangle_dupe_cols, dtype, engine, converters, true_values, false_values, skipinitialspace, skiprows, skipfooter, nrows, na_values, keep_default_na, na_filter, verbose, skip_blank_lines, parse_dates, infer_datetime_format, keep_date_col, date_parser, dayfirst, cache_dates, iterator, chunksize, compression, thousands, decimal, lineterminator, quotechar, quoting, doublequote, escapechar, comment, encoding, encoding_errors, dialect, error_bad_lines, warn_bad_lines, on_bad_lines, delim_whitespace, low_memory, memory_map, float_precision, storage_options)\u001b[0m\n\u001b[0;32m    665\u001b[0m kwds_defaults \u001b[38;5;241m=\u001b[39m _refine_defaults_read(\n\u001b[0;32m    666\u001b[0m     dialect,\n\u001b[0;32m    667\u001b[0m     delimiter,\n\u001b[1;32m   (...)\u001b[0m\n\u001b[0;32m    676\u001b[0m     defaults\u001b[38;5;241m=\u001b[39m{\u001b[38;5;124m\"\u001b[39m\u001b[38;5;124mdelimiter\u001b[39m\u001b[38;5;124m\"\u001b[39m: \u001b[38;5;124m\"\u001b[39m\u001b[38;5;124m,\u001b[39m\u001b[38;5;124m\"\u001b[39m},\n\u001b[0;32m    677\u001b[0m )\n\u001b[0;32m    678\u001b[0m kwds\u001b[38;5;241m.\u001b[39mupdate(kwds_defaults)\n\u001b[1;32m--> 680\u001b[0m \u001b[38;5;28;01mreturn\u001b[39;00m \u001b[43m_read\u001b[49m\u001b[43m(\u001b[49m\u001b[43mfilepath_or_buffer\u001b[49m\u001b[43m,\u001b[49m\u001b[43m \u001b[49m\u001b[43mkwds\u001b[49m\u001b[43m)\u001b[49m\n",
      "File \u001b[1;32m~\\anaconda3\\envs\\Alex\\lib\\site-packages\\pandas\\io\\parsers\\readers.py:575\u001b[0m, in \u001b[0;36m_read\u001b[1;34m(filepath_or_buffer, kwds)\u001b[0m\n\u001b[0;32m    572\u001b[0m _validate_names(kwds\u001b[38;5;241m.\u001b[39mget(\u001b[38;5;124m\"\u001b[39m\u001b[38;5;124mnames\u001b[39m\u001b[38;5;124m\"\u001b[39m, \u001b[38;5;28;01mNone\u001b[39;00m))\n\u001b[0;32m    574\u001b[0m \u001b[38;5;66;03m# Create the parser.\u001b[39;00m\n\u001b[1;32m--> 575\u001b[0m parser \u001b[38;5;241m=\u001b[39m TextFileReader(filepath_or_buffer, \u001b[38;5;241m*\u001b[39m\u001b[38;5;241m*\u001b[39mkwds)\n\u001b[0;32m    577\u001b[0m \u001b[38;5;28;01mif\u001b[39;00m chunksize \u001b[38;5;129;01mor\u001b[39;00m iterator:\n\u001b[0;32m    578\u001b[0m     \u001b[38;5;28;01mreturn\u001b[39;00m parser\n",
      "File \u001b[1;32m~\\anaconda3\\envs\\Alex\\lib\\site-packages\\pandas\\io\\parsers\\readers.py:933\u001b[0m, in \u001b[0;36mTextFileReader.__init__\u001b[1;34m(self, f, engine, **kwds)\u001b[0m\n\u001b[0;32m    930\u001b[0m     \u001b[38;5;28mself\u001b[39m\u001b[38;5;241m.\u001b[39moptions[\u001b[38;5;124m\"\u001b[39m\u001b[38;5;124mhas_index_names\u001b[39m\u001b[38;5;124m\"\u001b[39m] \u001b[38;5;241m=\u001b[39m kwds[\u001b[38;5;124m\"\u001b[39m\u001b[38;5;124mhas_index_names\u001b[39m\u001b[38;5;124m\"\u001b[39m]\n\u001b[0;32m    932\u001b[0m \u001b[38;5;28mself\u001b[39m\u001b[38;5;241m.\u001b[39mhandles: IOHandles \u001b[38;5;241m|\u001b[39m \u001b[38;5;28;01mNone\u001b[39;00m \u001b[38;5;241m=\u001b[39m \u001b[38;5;28;01mNone\u001b[39;00m\n\u001b[1;32m--> 933\u001b[0m \u001b[38;5;28mself\u001b[39m\u001b[38;5;241m.\u001b[39m_engine \u001b[38;5;241m=\u001b[39m \u001b[38;5;28;43mself\u001b[39;49m\u001b[38;5;241;43m.\u001b[39;49m\u001b[43m_make_engine\u001b[49m\u001b[43m(\u001b[49m\u001b[43mf\u001b[49m\u001b[43m,\u001b[49m\u001b[43m \u001b[49m\u001b[38;5;28;43mself\u001b[39;49m\u001b[38;5;241;43m.\u001b[39;49m\u001b[43mengine\u001b[49m\u001b[43m)\u001b[49m\n",
      "File \u001b[1;32m~\\anaconda3\\envs\\Alex\\lib\\site-packages\\pandas\\io\\parsers\\readers.py:1217\u001b[0m, in \u001b[0;36mTextFileReader._make_engine\u001b[1;34m(self, f, engine)\u001b[0m\n\u001b[0;32m   1213\u001b[0m     mode \u001b[38;5;241m=\u001b[39m \u001b[38;5;124m\"\u001b[39m\u001b[38;5;124mrb\u001b[39m\u001b[38;5;124m\"\u001b[39m\n\u001b[0;32m   1214\u001b[0m \u001b[38;5;66;03m# error: No overload variant of \"get_handle\" matches argument types\u001b[39;00m\n\u001b[0;32m   1215\u001b[0m \u001b[38;5;66;03m# \"Union[str, PathLike[str], ReadCsvBuffer[bytes], ReadCsvBuffer[str]]\"\u001b[39;00m\n\u001b[0;32m   1216\u001b[0m \u001b[38;5;66;03m# , \"str\", \"bool\", \"Any\", \"Any\", \"Any\", \"Any\", \"Any\"\u001b[39;00m\n\u001b[1;32m-> 1217\u001b[0m \u001b[38;5;28mself\u001b[39m\u001b[38;5;241m.\u001b[39mhandles \u001b[38;5;241m=\u001b[39m \u001b[43mget_handle\u001b[49m\u001b[43m(\u001b[49m\u001b[43m  \u001b[49m\u001b[38;5;66;43;03m# type: ignore[call-overload]\u001b[39;49;00m\n\u001b[0;32m   1218\u001b[0m \u001b[43m    \u001b[49m\u001b[43mf\u001b[49m\u001b[43m,\u001b[49m\n\u001b[0;32m   1219\u001b[0m \u001b[43m    \u001b[49m\u001b[43mmode\u001b[49m\u001b[43m,\u001b[49m\n\u001b[0;32m   1220\u001b[0m \u001b[43m    \u001b[49m\u001b[43mencoding\u001b[49m\u001b[38;5;241;43m=\u001b[39;49m\u001b[38;5;28;43mself\u001b[39;49m\u001b[38;5;241;43m.\u001b[39;49m\u001b[43moptions\u001b[49m\u001b[38;5;241;43m.\u001b[39;49m\u001b[43mget\u001b[49m\u001b[43m(\u001b[49m\u001b[38;5;124;43m\"\u001b[39;49m\u001b[38;5;124;43mencoding\u001b[39;49m\u001b[38;5;124;43m\"\u001b[39;49m\u001b[43m,\u001b[49m\u001b[43m \u001b[49m\u001b[38;5;28;43;01mNone\u001b[39;49;00m\u001b[43m)\u001b[49m\u001b[43m,\u001b[49m\n\u001b[0;32m   1221\u001b[0m \u001b[43m    \u001b[49m\u001b[43mcompression\u001b[49m\u001b[38;5;241;43m=\u001b[39;49m\u001b[38;5;28;43mself\u001b[39;49m\u001b[38;5;241;43m.\u001b[39;49m\u001b[43moptions\u001b[49m\u001b[38;5;241;43m.\u001b[39;49m\u001b[43mget\u001b[49m\u001b[43m(\u001b[49m\u001b[38;5;124;43m\"\u001b[39;49m\u001b[38;5;124;43mcompression\u001b[39;49m\u001b[38;5;124;43m\"\u001b[39;49m\u001b[43m,\u001b[49m\u001b[43m \u001b[49m\u001b[38;5;28;43;01mNone\u001b[39;49;00m\u001b[43m)\u001b[49m\u001b[43m,\u001b[49m\n\u001b[0;32m   1222\u001b[0m \u001b[43m    \u001b[49m\u001b[43mmemory_map\u001b[49m\u001b[38;5;241;43m=\u001b[39;49m\u001b[38;5;28;43mself\u001b[39;49m\u001b[38;5;241;43m.\u001b[39;49m\u001b[43moptions\u001b[49m\u001b[38;5;241;43m.\u001b[39;49m\u001b[43mget\u001b[49m\u001b[43m(\u001b[49m\u001b[38;5;124;43m\"\u001b[39;49m\u001b[38;5;124;43mmemory_map\u001b[39;49m\u001b[38;5;124;43m\"\u001b[39;49m\u001b[43m,\u001b[49m\u001b[43m \u001b[49m\u001b[38;5;28;43;01mFalse\u001b[39;49;00m\u001b[43m)\u001b[49m\u001b[43m,\u001b[49m\n\u001b[0;32m   1223\u001b[0m \u001b[43m    \u001b[49m\u001b[43mis_text\u001b[49m\u001b[38;5;241;43m=\u001b[39;49m\u001b[43mis_text\u001b[49m\u001b[43m,\u001b[49m\n\u001b[0;32m   1224\u001b[0m \u001b[43m    \u001b[49m\u001b[43merrors\u001b[49m\u001b[38;5;241;43m=\u001b[39;49m\u001b[38;5;28;43mself\u001b[39;49m\u001b[38;5;241;43m.\u001b[39;49m\u001b[43moptions\u001b[49m\u001b[38;5;241;43m.\u001b[39;49m\u001b[43mget\u001b[49m\u001b[43m(\u001b[49m\u001b[38;5;124;43m\"\u001b[39;49m\u001b[38;5;124;43mencoding_errors\u001b[39;49m\u001b[38;5;124;43m\"\u001b[39;49m\u001b[43m,\u001b[49m\u001b[43m \u001b[49m\u001b[38;5;124;43m\"\u001b[39;49m\u001b[38;5;124;43mstrict\u001b[39;49m\u001b[38;5;124;43m\"\u001b[39;49m\u001b[43m)\u001b[49m\u001b[43m,\u001b[49m\n\u001b[0;32m   1225\u001b[0m \u001b[43m    \u001b[49m\u001b[43mstorage_options\u001b[49m\u001b[38;5;241;43m=\u001b[39;49m\u001b[38;5;28;43mself\u001b[39;49m\u001b[38;5;241;43m.\u001b[39;49m\u001b[43moptions\u001b[49m\u001b[38;5;241;43m.\u001b[39;49m\u001b[43mget\u001b[49m\u001b[43m(\u001b[49m\u001b[38;5;124;43m\"\u001b[39;49m\u001b[38;5;124;43mstorage_options\u001b[39;49m\u001b[38;5;124;43m\"\u001b[39;49m\u001b[43m,\u001b[49m\u001b[43m \u001b[49m\u001b[38;5;28;43;01mNone\u001b[39;49;00m\u001b[43m)\u001b[49m\u001b[43m,\u001b[49m\n\u001b[0;32m   1226\u001b[0m \u001b[43m\u001b[49m\u001b[43m)\u001b[49m\n\u001b[0;32m   1227\u001b[0m \u001b[38;5;28;01massert\u001b[39;00m \u001b[38;5;28mself\u001b[39m\u001b[38;5;241m.\u001b[39mhandles \u001b[38;5;129;01mis\u001b[39;00m \u001b[38;5;129;01mnot\u001b[39;00m \u001b[38;5;28;01mNone\u001b[39;00m\n\u001b[0;32m   1228\u001b[0m f \u001b[38;5;241m=\u001b[39m \u001b[38;5;28mself\u001b[39m\u001b[38;5;241m.\u001b[39mhandles\u001b[38;5;241m.\u001b[39mhandle\n",
      "File \u001b[1;32m~\\anaconda3\\envs\\Alex\\lib\\site-packages\\pandas\\io\\common.py:789\u001b[0m, in \u001b[0;36mget_handle\u001b[1;34m(path_or_buf, mode, encoding, compression, memory_map, is_text, errors, storage_options)\u001b[0m\n\u001b[0;32m    784\u001b[0m \u001b[38;5;28;01melif\u001b[39;00m \u001b[38;5;28misinstance\u001b[39m(handle, \u001b[38;5;28mstr\u001b[39m):\n\u001b[0;32m    785\u001b[0m     \u001b[38;5;66;03m# Check whether the filename is to be opened in binary mode.\u001b[39;00m\n\u001b[0;32m    786\u001b[0m     \u001b[38;5;66;03m# Binary mode does not support 'encoding' and 'newline'.\u001b[39;00m\n\u001b[0;32m    787\u001b[0m     \u001b[38;5;28;01mif\u001b[39;00m ioargs\u001b[38;5;241m.\u001b[39mencoding \u001b[38;5;129;01mand\u001b[39;00m \u001b[38;5;124m\"\u001b[39m\u001b[38;5;124mb\u001b[39m\u001b[38;5;124m\"\u001b[39m \u001b[38;5;129;01mnot\u001b[39;00m \u001b[38;5;129;01min\u001b[39;00m ioargs\u001b[38;5;241m.\u001b[39mmode:\n\u001b[0;32m    788\u001b[0m         \u001b[38;5;66;03m# Encoding\u001b[39;00m\n\u001b[1;32m--> 789\u001b[0m         handle \u001b[38;5;241m=\u001b[39m \u001b[38;5;28;43mopen\u001b[39;49m\u001b[43m(\u001b[49m\n\u001b[0;32m    790\u001b[0m \u001b[43m            \u001b[49m\u001b[43mhandle\u001b[49m\u001b[43m,\u001b[49m\n\u001b[0;32m    791\u001b[0m \u001b[43m            \u001b[49m\u001b[43mioargs\u001b[49m\u001b[38;5;241;43m.\u001b[39;49m\u001b[43mmode\u001b[49m\u001b[43m,\u001b[49m\n\u001b[0;32m    792\u001b[0m \u001b[43m            \u001b[49m\u001b[43mencoding\u001b[49m\u001b[38;5;241;43m=\u001b[39;49m\u001b[43mioargs\u001b[49m\u001b[38;5;241;43m.\u001b[39;49m\u001b[43mencoding\u001b[49m\u001b[43m,\u001b[49m\n\u001b[0;32m    793\u001b[0m \u001b[43m            \u001b[49m\u001b[43merrors\u001b[49m\u001b[38;5;241;43m=\u001b[39;49m\u001b[43merrors\u001b[49m\u001b[43m,\u001b[49m\n\u001b[0;32m    794\u001b[0m \u001b[43m            \u001b[49m\u001b[43mnewline\u001b[49m\u001b[38;5;241;43m=\u001b[39;49m\u001b[38;5;124;43m\"\u001b[39;49m\u001b[38;5;124;43m\"\u001b[39;49m\u001b[43m,\u001b[49m\n\u001b[0;32m    795\u001b[0m \u001b[43m        \u001b[49m\u001b[43m)\u001b[49m\n\u001b[0;32m    796\u001b[0m     \u001b[38;5;28;01melse\u001b[39;00m:\n\u001b[0;32m    797\u001b[0m         \u001b[38;5;66;03m# Binary mode\u001b[39;00m\n\u001b[0;32m    798\u001b[0m         handle \u001b[38;5;241m=\u001b[39m \u001b[38;5;28mopen\u001b[39m(handle, ioargs\u001b[38;5;241m.\u001b[39mmode)\n",
      "\u001b[1;31mFileNotFoundError\u001b[0m: [Errno 2] No such file or directory: '../Data/Real_State_Properati.csv'"
     ]
    }
   ],
   "source": [
    "data_location = \"../Data/Real_State_Properati.csv\"\n",
    "df_prop = pd.read_csv(data_location, sep = '\\t')\n"
   ]
  },
  {
   "cell_type": "markdown",
   "id": "23558003",
   "metadata": {},
   "source": [
    "# Encontramos os tipos de cada coluna\n",
    "Identificamos os tipos de cada coluna e printamos alguns dados para melhor entendimento dos dados"
   ]
  },
  {
   "cell_type": "code",
   "execution_count": 23,
   "id": "f26750be-985a-4844-95a2-a42ffa6f2e27",
   "metadata": {},
   "outputs": [
    {
     "ename": "NameError",
     "evalue": "name 'df_prop' is not defined",
     "output_type": "error",
     "traceback": [
      "\u001b[1;31m---------------------------------------------------------------------------\u001b[0m",
      "\u001b[1;31mNameError\u001b[0m                                 Traceback (most recent call last)",
      "Input \u001b[1;32mIn [23]\u001b[0m, in \u001b[0;36m<cell line: 1>\u001b[1;34m()\u001b[0m\n\u001b[1;32m----> 1\u001b[0m \u001b[38;5;28mprint\u001b[39m(\u001b[43mdf_prop\u001b[49m\u001b[38;5;241m.\u001b[39mdtypes)\n\u001b[0;32m      2\u001b[0m df_prop\u001b[38;5;241m.\u001b[39mhead()\n",
      "\u001b[1;31mNameError\u001b[0m: name 'df_prop' is not defined"
     ]
    }
   ],
   "source": [
    "print(df_prop.dtypes)\n",
    "df_prop.head()"
   ]
  },
  {
   "cell_type": "markdown",
   "id": "4af45a22",
   "metadata": {},
   "source": [
    "# Verificando quantidade de linhas do arquivo"
   ]
  },
  {
   "cell_type": "code",
   "execution_count": null,
   "id": "dc5facbc",
   "metadata": {},
   "outputs": [],
   "source": [
    "df_prop.shape[0]"
   ]
  },
  {
   "cell_type": "markdown",
   "id": "7314c658",
   "metadata": {},
   "source": [
    "# Modificando nome da coluna surface_total_in_m2 para total_m2\n",
    "Facilitará quando precisarmos analisar e usar esse campo"
   ]
  },
  {
   "cell_type": "code",
   "execution_count": null,
   "id": "6e5a42a8",
   "metadata": {},
   "outputs": [],
   "source": [
    "df_prop.rename(columns={'surface_total_in_m2': 'total_m2'}, inplace = True)\n",
    "df_prop.columns"
   ]
  },
  {
   "cell_type": "markdown",
   "id": "e56a8b89",
   "metadata": {},
   "source": [
    "# Verificação de valores ausentes\n",
    "Verificamos os valores ausentes em cada coluna. Conclusão: Não existem valores ausentes em nenhuma das colunas"
   ]
  },
  {
   "cell_type": "code",
   "execution_count": null,
   "id": "fca0b950",
   "metadata": {},
   "outputs": [],
   "source": [
    "data_null = df_prop.apply(lambda x : x.isnull().sum())\n",
    "data_null"
   ]
  },
  {
   "cell_type": "markdown",
   "id": "aafec850",
   "metadata": {},
   "source": [
    "# Verificação de valores menores ou iguais a zero nas colunas price e total_m2\n",
    "Vamos verificar se existem valores menores ou iguais a zero nas colunas price e surface_total_in_m2. Sobre a coluna price não encontramos nenhum registro com valor menor ou igual a zero, mas sobre a coluna total_m2 encontramos 6 registros."
   ]
  },
  {
   "cell_type": "code",
   "execution_count": null,
   "id": "53a89e70",
   "metadata": {},
   "outputs": [],
   "source": [
    "data_menor_igual_zero = pd.DataFrame(df_prop, columns=['price','total_m2'])\n",
    "data_menor_igual_zero = data_menor_igual_zero.apply(lambda x : x<=0).sum()\n",
    "data_menor_igual_zero"
   ]
  },
  {
   "cell_type": "markdown",
   "id": "3f34199e",
   "metadata": {},
   "source": [
    "# Verificando quais registros de total_m2 estão com valor menor ou igual a zero\n",
    "Temos 6 registros com valor em total_m2 menor ou igual a zero. Nas próximas linhas veremos qual ação tomar diante desse fato."
   ]
  },
  {
   "cell_type": "code",
   "execution_count": null,
   "id": "90e47c07",
   "metadata": {},
   "outputs": [],
   "source": [
    "mask_m2_menor_igual_zero = df_prop['total_m2']<=0\n",
    "data_m2_menor_igual_zero = df_prop.loc[mask_m2_menor_igual_zero]\n",
    "data_m2_menor_igual_zero"
   ]
  },
  {
   "cell_type": "markdown",
   "id": "0714c03d",
   "metadata": {},
   "source": [
    "# Vamos preencher o total_m2 usando a média por property_type e place_name\n",
    "Primeiro iremos criar um novo dataframe apenas com os registros cujo total_m2 seja maior que zero. Depois disso aplicaremos a média de total_m2 por property_type e place_name e preencheremos os valores faltantes na coluna total_m2 com a média respectiva por property_name e place_name"
   ]
  },
  {
   "cell_type": "code",
   "execution_count": null,
   "id": "72273d3b",
   "metadata": {},
   "outputs": [],
   "source": [
    "mask_m2_maior_zero = df_prop['total_m2']>0\n",
    "data_m2_maior_zero = df_prop.loc[mask_m2_maior_zero]\n",
    "data_m2_maior_zero = pd.DataFrame(data_m2_maior_zero, columns=['property_type','place_name','total_m2'])\n",
    "data_m2_maior_zero"
   ]
  },
  {
   "cell_type": "markdown",
   "id": "fdb5c1ac",
   "metadata": {},
   "source": [
    "# Agrupando as médias de total_m2 por property_type e place_name"
   ]
  },
  {
   "cell_type": "code",
   "execution_count": null,
   "id": "599a23ce",
   "metadata": {},
   "outputs": [],
   "source": [
    "data_media_m2_pp = data_m2_maior_zero.groupby(['property_type','place_name']).mean().reset_index()\n",
    "data_media_m2_pp"
   ]
  },
  {
   "cell_type": "markdown",
   "id": "46603ae8",
   "metadata": {},
   "source": [
    "# Atribuindo as médias de total_m2 agrupadas nas respectivas linhas respeitando property_type e place_name\n",
    "Usando laço for para atualizar a média do total_m2 por property_type e place_name e depois realizando um check para confirmar que não exista nenhum registro com o total_m2 menor ou igual a zero."
   ]
  },
  {
   "cell_type": "code",
   "execution_count": null,
   "id": "4a2b37ab",
   "metadata": {},
   "outputs": [],
   "source": [
    "for i in df_prop[mask_m2_menor_igual_zero].index:\n",
    "    property_type = df_prop.loc[i, 'property_type']\n",
    "    place_name    = df_prop.loc[i, 'place_name']\n",
    "    total_m2      = float(data_media_m2_pp[(data_media_m2_pp['property_type']==property_type) & (data_media_m2_pp['place_name']==place_name)]['total_m2'])\n",
    "    df_prop.loc[i, 'total_m2'] = total_m2"
   ]
  },
  {
   "cell_type": "markdown",
   "id": "20fb66d4",
   "metadata": {},
   "source": [
    "# Verificando se sobrou algum registro com total_m2 menor ou igual a zero"
   ]
  },
  {
   "cell_type": "code",
   "execution_count": null,
   "id": "9a0b2e30",
   "metadata": {},
   "outputs": [],
   "source": [
    "mask_m2_menor_igual_zero_check = df_prop['total_m2']<=0\n",
    "data_m2_menor_igual_zero_check = df_prop.loc[mask_m2_menor_igual_zero_check]\n",
    "data_m2_menor_igual_zero_check"
   ]
  },
  {
   "cell_type": "markdown",
   "id": "7a35c777",
   "metadata": {},
   "source": [
    "# Verificando número de registrospor property_type"
   ]
  },
  {
   "cell_type": "code",
   "execution_count": null,
   "id": "46026517",
   "metadata": {},
   "outputs": [],
   "source": [
    "df_prop.value_counts('property_type')"
   ]
  },
  {
   "cell_type": "markdown",
   "id": "f9395f17",
   "metadata": {},
   "source": [
    "# Verificando número de registros por currency\n",
    "Percebemos que existem registros em dólares e em pesos argentinos. Teremos que converter tudo a uma moeda só"
   ]
  },
  {
   "cell_type": "code",
   "execution_count": null,
   "id": "ecbcb4c4-e421-420e-a8d2-c4f59af19b93",
   "metadata": {},
   "outputs": [],
   "source": [
    "df_prop.value_counts('currency')"
   ]
  },
  {
   "cell_type": "markdown",
   "id": "6f9844ce",
   "metadata": {},
   "source": [
    "# Criando coluna para unificação de preços uma vez que temos preços em Pesos e Dólares. Cotação do Dólar em 118.44 22/05/2022"
   ]
  },
  {
   "cell_type": "code",
   "execution_count": null,
   "id": "4ef6664e-025f-4bea-aef3-373c262f2e23",
   "metadata": {
    "scrolled": true
   },
   "outputs": [],
   "source": [
    "df_prop['price_usd'] = df_prop.apply(lambda x: x['price']/1 if x['currency']=='USD' else x['price']/118.44, axis=1)\n",
    "df_prop.head(10)"
   ]
  },
  {
   "cell_type": "code",
   "execution_count": null,
   "id": "340362c2-c50b-45e0-9f7d-5b2ffe723070",
   "metadata": {},
   "outputs": [],
   "source": [
    "# substituindo todas as moedas pesos pos dolar em currency\n",
    "df_prop = df_prop.replace({'currency': 'ARS'}, 'USD')\n",
    "df_prop.value_counts('currency')"
   ]
  },
  {
   "cell_type": "markdown",
   "id": "84afa798",
   "metadata": {},
   "source": [
    "# Verificando quantos registros existem por place_name"
   ]
  },
  {
   "cell_type": "code",
   "execution_count": null,
   "id": "af36ace0-436a-43df-84d6-4727d26fc719",
   "metadata": {},
   "outputs": [],
   "source": [
    "df_prop.value_counts('place_name')"
   ]
  },
  {
   "cell_type": "markdown",
   "id": "8acba035",
   "metadata": {},
   "source": [
    "# Criação de uma coluna price_m2 que armazenará o preço em dólar por m2\n",
    "Decidimos criar uma coluna para armazenar o preço em dólar por m2. Fizemos isso porque entendemos que 3 variáveis influenciam o preço, property_type, place_name e total_m2. Criando a coluna price_m2 entendemos que teremos somente 2 variáveis influenciando o price_m2, property_type e place_name. Temos todos os valores preenchidos na coluna divisora total_m2."
   ]
  },
  {
   "cell_type": "code",
   "execution_count": null,
   "id": "5a03c0a1-156c-418c-9ba3-ae54e186c2bd",
   "metadata": {},
   "outputs": [],
   "source": [
    "df_prop['price_m2'] = df_prop.apply(lambda x: x['price_usd'] / x['total_m2'], axis=1)\n",
    "df_prop.head(5)"
   ]
  },
  {
   "cell_type": "markdown",
   "id": "8539d74d",
   "metadata": {},
   "source": [
    "# Verificando se foi preenchido price_m2 com valor menor ou igual a zero"
   ]
  },
  {
   "cell_type": "code",
   "execution_count": null,
   "id": "1d136824-904a-43f1-a8ca-7d29eb43e52d",
   "metadata": {},
   "outputs": [],
   "source": [
    "mask_price_m2_menor_igual_zero = df_prop['price_m2']<= 0\n",
    "data_price_m2_menor_igual_zero = df_prop.loc[mask_price_m2_menor_igual_zero]\n",
    "data_price_m2_menor_igual_zero"
   ]
  },
  {
   "cell_type": "markdown",
   "id": "c7006400-e8ce-4dea-9cb6-24cf18af3cc3",
   "metadata": {},
   "source": [
    "# Observando o DataFrame\n",
    "Podemos perceber pelos valores máximos e mínimos das colunas total_m2, price_usd e price_m2 que temos uma variação muito grande de valores. Possivelmente temos outliers nessas colunas."
   ]
  },
  {
   "cell_type": "code",
   "execution_count": null,
   "id": "9b92ac20-0ef8-49f8-ae2c-4a5d2c5ee020",
   "metadata": {},
   "outputs": [],
   "source": [
    "df_prop.describe()"
   ]
  },
  {
   "cell_type": "markdown",
   "id": "48cb0fd6",
   "metadata": {},
   "source": [
    "# Verificando os 50 registros com maior price_m2\n",
    "Ordenamos os registros por price_m2 do maior para o menor e verificamos os registros. Aparentemente o registro de index 3901 é um outlier pois está muito distante do segundo maior. Observamos que existem imóveis com total_m2=10, aparentemente esses são valores errados e iremos eliminar do dataframe. Se olharmos a relação abaixo concluíremos que os tipos de imóveis mais caros são apartamentos e se concentram nos bairros de Boedo, Flores, San Cristobal, Almagro. O bairro Palermo possui dois imóveis entre os 5 valores mais caros por m2 porém os dois imóveis estão com 10m2 cada um e iremos eliminar esses registros."
   ]
  },
  {
   "cell_type": "code",
   "execution_count": null,
   "id": "8386dec8",
   "metadata": {},
   "outputs": [],
   "source": [
    "df_prop.sort_values(by='price_m2', ascending=False)[['place_name','price_m2','total_m2','property_type']].head(50)"
   ]
  },
  {
   "cell_type": "markdown",
   "id": "18b1948e",
   "metadata": {},
   "source": [
    "# Eliminando registro de index 3901 - outlier de price_m2 muito elevado"
   ]
  },
  {
   "cell_type": "code",
   "execution_count": null,
   "id": "c0498c1e",
   "metadata": {},
   "outputs": [],
   "source": [
    "df_prop = df_prop.drop(3901)"
   ]
  },
  {
   "cell_type": "markdown",
   "id": "5a985693",
   "metadata": {},
   "source": [
    "# Verificando imóveis menores ou iguais a 10m2\n",
    "O único registro que nos gerou dúvida em eliminar é o do tipo store porque Flores é um bairro valorizado e nos pareceu que existe a possibilidade de existir uma loja de 10m2 em um bairro valorizado."
   ]
  },
  {
   "cell_type": "code",
   "execution_count": null,
   "id": "0c9d3daf-15d3-43fb-806c-960d8ab380b1",
   "metadata": {},
   "outputs": [],
   "source": [
    "mask_total_m2_menor_igual_10 = df_prop.total_m2 <= 10\n",
    "df_prop.loc[mask_total_m2_menor_igual_10]"
   ]
  },
  {
   "cell_type": "markdown",
   "id": "a3a5734b",
   "metadata": {},
   "source": [
    "# Eliminado registros com total_m2 menor ou igual a 10\n",
    "O único registro que ficará com 10m2 é o da loja."
   ]
  },
  {
   "cell_type": "code",
   "execution_count": null,
   "id": "5f79b49e-f410-4e89-a276-f6369ee8192d",
   "metadata": {
    "scrolled": true
   },
   "outputs": [],
   "source": [
    "mask_total_m2_menor_igual_10 = (df_prop.total_m2 <= 10) & (df_prop.property_type != 'store')\n",
    "\n",
    "df_prop = df_prop.drop(df_prop[mask_total_m2_menor_igual_10].index)\n",
    "\n",
    "mask_total_m2_menor_igual_10 = df_prop.total_m2 <= 10\n",
    "\n",
    "df_prop.loc[mask_total_m2_menor_igual_10]"
   ]
  },
  {
   "cell_type": "markdown",
   "id": "c630eb87",
   "metadata": {},
   "source": [
    "# Aparentemente ainda existem muitos valores outliers na variável price_m2."
   ]
  },
  {
   "cell_type": "code",
   "execution_count": null,
   "id": "828c2840",
   "metadata": {},
   "outputs": [],
   "source": [
    "sns.boxplot(x='price_m2', data=df_prop, orient='h')"
   ]
  },
  {
   "cell_type": "markdown",
   "id": "4e53920a",
   "metadata": {},
   "source": [
    "# Criando nova coluna concatenando property e place para analisar em boxplot"
   ]
  },
  {
   "cell_type": "code",
   "execution_count": null,
   "id": "5c148fa4",
   "metadata": {},
   "outputs": [],
   "source": [
    "df_prop['property_place'] = df_prop['property_type'] + '_' + df_prop['place_name']"
   ]
  },
  {
   "cell_type": "markdown",
   "id": "8f665c5e",
   "metadata": {},
   "source": [
    "# Verificando outliers do tipo apartamento"
   ]
  },
  {
   "cell_type": "code",
   "execution_count": null,
   "id": "a545fa21",
   "metadata": {},
   "outputs": [],
   "source": [
    "sns.catplot(y=\"property_place\", x=\"price_m2\",\n",
    "                data=df_prop[df_prop['property_type']=='apartment'], kind=\"box\",\n",
    "                height=10, orient='h');"
   ]
  },
  {
   "cell_type": "markdown",
   "id": "bdc529be",
   "metadata": {},
   "source": [
    "# Verificando outliers do tipo PH"
   ]
  },
  {
   "cell_type": "code",
   "execution_count": null,
   "id": "47e4b6d5",
   "metadata": {},
   "outputs": [],
   "source": [
    "sns.catplot(y=\"property_place\", x=\"price_m2\",\n",
    "                data=df_prop[df_prop['property_type']=='PH'], kind=\"box\",\n",
    "                height=10, orient='h');"
   ]
  },
  {
   "cell_type": "markdown",
   "id": "275f711a",
   "metadata": {},
   "source": [
    "# Verificando outliers do tipo store"
   ]
  },
  {
   "cell_type": "code",
   "execution_count": null,
   "id": "810fafaa",
   "metadata": {},
   "outputs": [],
   "source": [
    "sns.catplot(y=\"property_place\", x=\"price_m2\",\n",
    "                data=df_prop[df_prop['property_type']=='store'], kind=\"box\",\n",
    "                height=10, orient='h');"
   ]
  },
  {
   "cell_type": "markdown",
   "id": "188b52af",
   "metadata": {},
   "source": [
    "# Verificando outliers do tipo house"
   ]
  },
  {
   "cell_type": "code",
   "execution_count": null,
   "id": "ab4da7aa",
   "metadata": {},
   "outputs": [],
   "source": [
    "sns.catplot(y=\"property_place\", x=\"price_m2\",\n",
    "                data=df_prop[df_prop['property_type']=='house'], kind=\"box\",\n",
    "                height=10, orient='h');"
   ]
  },
  {
   "cell_type": "markdown",
   "id": "286a597a",
   "metadata": {},
   "source": [
    "# Criando novo DataFrame agrupando place_name e property_type\n",
    "Usaremos esse DataFrame para correr os registros de cada bairro buscando o valor de price_m2 desde 25 % abaixo do primeiro e até 25% acima do terceiro quartil. Manteremos somente os dados nesse intervalo."
   ]
  },
  {
   "cell_type": "code",
   "execution_count": null,
   "id": "11a2b1e6",
   "metadata": {},
   "outputs": [],
   "source": [
    "df_prop2 = pd.DataFrame(df_prop, columns=['property_type','place_name','property_place','price_m2'])\n",
    "df_prop2 = df_prop2.groupby(['property_type','place_name','property_place']).count().reset_index()\n",
    "df_prop2"
   ]
  },
  {
   "cell_type": "code",
   "execution_count": null,
   "id": "2f196080",
   "metadata": {},
   "outputs": [],
   "source": [
    "df_prop3 = pd.DataFrame(df_prop)\n",
    "\n",
    "for i in df_prop2.index:\n",
    "    property_type = df_prop2.loc[i, 'property_type']\n",
    "    place_name    = df_prop2.loc[i, 'place_name']\n",
    "    \n",
    "    Q1 = np.percentile(df_prop[(df_prop['place_name']==place_name) & (df_prop['property_type']==property_type)]['price_m2'], 25,\n",
    "                       interpolation = 'midpoint') * 0.75\n",
    " \n",
    "    Q3 = np.percentile(df_prop[(df_prop['place_name']==place_name) & (df_prop['property_type']==property_type)]['price_m2'], 75,\n",
    "                       interpolation = 'midpoint') * 1.25\n",
    "    \n",
    "    mask_iq = (df_prop3['property_type']==property_type) & (df_prop3['place_name']==place_name) & ((df_prop3['price_m2']<Q1) | (df_prop3['price_m2']>Q3))\n",
    "    \n",
    "    #print(f\"Deletando {property_type} {place_name} entre {Q1} e {Q3} {mask_iq.count()} registros\")\n",
    "    \n",
    "    df_prop3.drop(df_prop3[mask_iq].index, inplace=True)\n",
    "df_prop3"
   ]
  },
  {
   "cell_type": "markdown",
   "id": "54548512",
   "metadata": {},
   "source": [
    "# Verificando quantos registros sobraram de cada tipo\n",
    " - No DataFrame original tínhamos 14428 apartamentos e ficamos com 12529. Eliminamos cerca de 14.2% de apartamentos;\n",
    " - No DataFrame original tínhamos 1142 PHs e ficamos com 1013. Eliminamos cerca de 12,3% de PHs;\n",
    " - No DataFrame original tínhamos 888 houses e ficamos com 743. Eliminamos cerca de 16.4% de houses;\n",
    " - No DataFrame original tínhamos 765 stores e ficamos com 611. Eliminamos cerca de 21.1% de stores;\n",
    " - No DataFrame original tínhamos 17223 registros e ficamos com 14896. Eliminamos cerca de 15.5% do DataFrame;"
   ]
  },
  {
   "cell_type": "code",
   "execution_count": null,
   "id": "8df42555",
   "metadata": {},
   "outputs": [],
   "source": [
    "df_prop3.value_counts('property_type')"
   ]
  },
  {
   "cell_type": "markdown",
   "id": "21b7011a",
   "metadata": {},
   "source": [
    "# Verificando o resultado da eliminação de outliers do tipo apartamento"
   ]
  },
  {
   "cell_type": "code",
   "execution_count": null,
   "id": "6e484c27",
   "metadata": {
    "scrolled": true
   },
   "outputs": [],
   "source": [
    "sns.catplot(y=\"property_place\", x=\"price_m2\",\n",
    "                data=df_prop3[df_prop3['property_type']=='apartment'], kind=\"box\",\n",
    "                height=10, orient='h');"
   ]
  },
  {
   "cell_type": "markdown",
   "id": "900f15f8",
   "metadata": {},
   "source": [
    "# Verificando o resultado da eliminação de outliers do tipo PH"
   ]
  },
  {
   "cell_type": "code",
   "execution_count": null,
   "id": "8487b945",
   "metadata": {
    "scrolled": true
   },
   "outputs": [],
   "source": [
    "sns.catplot(y=\"property_place\", x=\"price_m2\",\n",
    "                data=df_prop3[df_prop3['property_type']=='PH'], kind=\"box\",\n",
    "                height=10, orient='h');"
   ]
  },
  {
   "cell_type": "markdown",
   "id": "982491cc",
   "metadata": {},
   "source": [
    "# Verificando o resultado da eliminação de outliers do tipo house"
   ]
  },
  {
   "cell_type": "code",
   "execution_count": null,
   "id": "e7126c21",
   "metadata": {
    "scrolled": true
   },
   "outputs": [],
   "source": [
    "sns.catplot(y=\"property_place\", x=\"price_m2\",\n",
    "                data=df_prop3[df_prop3['property_type']=='house'], kind=\"box\",\n",
    "                height=10, orient='h');"
   ]
  },
  {
   "cell_type": "markdown",
   "id": "4db9c179",
   "metadata": {},
   "source": [
    "# Verificando o resultado da eliminação de outliers do tipo store"
   ]
  },
  {
   "cell_type": "code",
   "execution_count": null,
   "id": "2226f46f",
   "metadata": {},
   "outputs": [],
   "source": [
    "sns.catplot(y=\"property_place\", x=\"price_m2\",\n",
    "                data=df_prop3[df_prop3['property_type']=='store'], kind=\"box\",\n",
    "                height=10, orient='h');"
   ]
  },
  {
   "cell_type": "markdown",
   "id": "676f2bce",
   "metadata": {},
   "source": [
    "# Verificando como ficou o DataFrame"
   ]
  },
  {
   "cell_type": "code",
   "execution_count": 7,
   "id": "8ba79005",
   "metadata": {},
   "outputs": [
    {
     "ename": "NameError",
     "evalue": "name 'df_prop3' is not defined",
     "output_type": "error",
     "traceback": [
      "\u001b[1;31m---------------------------------------------------------------------------\u001b[0m",
      "\u001b[1;31mNameError\u001b[0m                                 Traceback (most recent call last)",
      "Input \u001b[1;32mIn [7]\u001b[0m, in \u001b[0;36m<cell line: 1>\u001b[1;34m()\u001b[0m\n\u001b[1;32m----> 1\u001b[0m \u001b[43mdf_prop3\u001b[49m\u001b[38;5;241m.\u001b[39mdescribe()\n",
      "\u001b[1;31mNameError\u001b[0m: name 'df_prop3' is not defined"
     ]
    }
   ],
   "source": [
    "df_prop3.describe()"
   ]
  },
  {
   "cell_type": "markdown",
   "id": "cfde2c99",
   "metadata": {},
   "source": [
    "# Identificando place_name com menor número de imóveis e iremos eliminar os registros em bairros com menos de 10 registros\n",
    " - Primeiro iremos criar uma coluna para armazenar quantos registros existem por bairro"
   ]
  },
  {
   "cell_type": "code",
   "execution_count": null,
   "id": "23f10592-3138-4fe3-8a1e-28359c46e5a9",
   "metadata": {},
   "outputs": [],
   "source": [
    "df_prop3['count_place'] = df_prop3.groupby('place_name')['place_name'].transform('count')"
   ]
  },
  {
   "cell_type": "markdown",
   "id": "313fc9c1",
   "metadata": {},
   "source": [
    " - Abaixo verificamos quantas linhas temos no DataFrame"
   ]
  },
  {
   "cell_type": "code",
   "execution_count": null,
   "id": "6545a7ab-6b31-476d-a24c-de40c5b2888d",
   "metadata": {},
   "outputs": [],
   "source": [
    "print(df_prop3.shape)"
   ]
  },
  {
   "cell_type": "markdown",
   "id": "a47f1b4d",
   "metadata": {},
   "source": [
    " - Verificamos se foi alimentado o contador de bairros"
   ]
  },
  {
   "cell_type": "code",
   "execution_count": null,
   "id": "f09ee412-8598-4d34-9b79-c284bdeeeda0",
   "metadata": {},
   "outputs": [],
   "source": [
    "df_prop3.loc[0:5,['place_name','count_place']].sort_values('count_place')"
   ]
  },
  {
   "cell_type": "markdown",
   "id": "722be40e",
   "metadata": {},
   "source": [
    " - Verificando o número de registros por bairro"
   ]
  },
  {
   "cell_type": "code",
   "execution_count": null,
   "id": "a8e87be7-10d9-4874-8632-3d85f3e3480f",
   "metadata": {},
   "outputs": [],
   "source": [
    "df_prop3.place_name.value_counts()"
   ]
  },
  {
   "cell_type": "code",
   "execution_count": null,
   "id": "af2674b8-89bb-4f5e-a67e-43721cf1bbe3",
   "metadata": {},
   "outputs": [],
   "source": [
    "# criação de uma mascara com quantidade menor que 10 e observando a porcentagem de registros\n",
    "df_prop3_mask_menor10 = df_prop3.count_place < 10\n",
    "# observando a porcentagem de valores com menos de 10 propriedades por bairro\n",
    "df_prop3_menor10 = df_prop3.loc[df_prop3_mask_menor10,['count_place']]\n",
    "df_prop3_menor10.shape[0] / df_prop3.shape[0] * 100"
   ]
  },
  {
   "cell_type": "code",
   "execution_count": null,
   "id": "e2b93777-213e-4646-8cd5-7e53c735125c",
   "metadata": {},
   "outputs": [],
   "source": [
    "# dropando as linhas com a mascara criada\n",
    "df_prop3 = df_prop3.drop(df_prop3[df_prop3_mask_menor10].index)"
   ]
  },
  {
   "cell_type": "code",
   "execution_count": null,
   "id": "b4fdc158-ddcf-4739-a2a4-0a7f52fc35b0",
   "metadata": {},
   "outputs": [],
   "source": [
    "# observando a quantidade de linhas após o drop \n",
    "df_prop3.shape"
   ]
  },
  {
   "cell_type": "code",
   "execution_count": null,
   "id": "8ece562e-51ed-45f7-ad0a-089a0d2fc6bb",
   "metadata": {},
   "outputs": [],
   "source": [
    "# observando a quantidade de valores após dropar os registros\n",
    "df_prop3['place_name'].value_counts().sort_values().head(5)"
   ]
  },
  {
   "cell_type": "code",
   "execution_count": null,
   "id": "4d408e15-e7fb-4c53-ade6-7acca4371831",
   "metadata": {},
   "outputs": [],
   "source": [
    "# observando os valores da coluna price_m2\n",
    "df_prop3['price_m2'].sort_values().head(10)"
   ]
  },
  {
   "cell_type": "code",
   "execution_count": null,
   "id": "cdf641cb-b830-4703-8949-303114b94ba5",
   "metadata": {
    "scrolled": true
   },
   "outputs": [],
   "source": [
    "df_prop3.head(5)"
   ]
  },
  {
   "cell_type": "markdown",
   "id": "1acabe9c",
   "metadata": {},
   "source": [
    "# Verificamos se há algum imóvel com total_m2 muito alto ou baixo. Poderia influenciar no price_m2"
   ]
  },
  {
   "cell_type": "code",
   "execution_count": null,
   "id": "7979f25b-fccc-4cf7-9997-741f04874814",
   "metadata": {},
   "outputs": [],
   "source": [
    "df_prop3[['place_name','property_type','price_m2','total_m2']].sort_values('total_m2', ascending=False)"
   ]
  },
  {
   "cell_type": "markdown",
   "id": "13960413-ba73-4d11-9d39-ffaad6c55760",
   "metadata": {},
   "source": [
    "# Criando array com os quartis com a média do preço por metro quadrado\n",
    "Percebemos a influência de alguns bairros com price_m2 mais alto no último quartil, Apartamentos em Boedo, por exemplo."
   ]
  },
  {
   "cell_type": "code",
   "execution_count": null,
   "id": "fe436b84-76ff-4d61-818c-e81230b9c00a",
   "metadata": {},
   "outputs": [],
   "source": [
    "# calculando os quartis dos preços por m2 na serie  \n",
    "q_price_m2\t = pd.qcut(df_prop3.price_m2\t, 4)\n",
    "print(type(q_price_m2))\n",
    "q_price_m2"
   ]
  },
  {
   "cell_type": "markdown",
   "id": "310cfbfc",
   "metadata": {},
   "source": [
    "# Criando variável da média do price_m2 por property_type e place_name"
   ]
  },
  {
   "cell_type": "code",
   "execution_count": null,
   "id": "28828ad4-b13c-4dac-a102-4094b2500695",
   "metadata": {},
   "outputs": [],
   "source": [
    "df_prop3['avg_price_m2'] = df_prop3.groupby('property_place')['price_m2'].transform('mean')"
   ]
  },
  {
   "cell_type": "code",
   "execution_count": null,
   "id": "a8f18fb3",
   "metadata": {},
   "outputs": [],
   "source": [
    "df_prop3.head(10)"
   ]
  },
  {
   "cell_type": "markdown",
   "id": "c980ce7d-cb55-46f6-9f92-9246c70b3d45",
   "metadata": {},
   "source": [
    "# Análise espacial da localização das propriedades com o Geopandas\n",
    "Verificamos o DataFrame e percebemos que existem somente registros de Buenos Aires Capital. Diante disso importamos um arquivo com os perímetros dos bairros de Buenos Aires Capita e posteriormente iremos analisar se há algum registro fora e eliminá-los."
   ]
  },
  {
   "cell_type": "code",
   "execution_count": null,
   "id": "5ec29660-fc81-4b92-ab93-5fadd2b7c01f",
   "metadata": {},
   "outputs": [],
   "source": [
    "df_bairros = pd.read_csv(\"../Data/Neighborhoods.csv\", encoding = 'latin1')\n",
    "df_bairros.head()"
   ]
  },
  {
   "cell_type": "markdown",
   "id": "50cd514d",
   "metadata": {},
   "source": [
    " - Convertendo os bairros de DataFrame para GeoDataFrame"
   ]
  },
  {
   "cell_type": "code",
   "execution_count": 8,
   "id": "7e85812c-cf95-487d-9151-37a44df04cd3",
   "metadata": {},
   "outputs": [
    {
     "ename": "NameError",
     "evalue": "name 'df_bairros' is not defined",
     "output_type": "error",
     "traceback": [
      "\u001b[1;31m---------------------------------------------------------------------------\u001b[0m",
      "\u001b[1;31mNameError\u001b[0m                                 Traceback (most recent call last)",
      "Input \u001b[1;32mIn [8]\u001b[0m, in \u001b[0;36m<cell line: 1>\u001b[1;34m()\u001b[0m\n\u001b[1;32m----> 1\u001b[0m df_bairros[\u001b[38;5;124m\"\u001b[39m\u001b[38;5;124mWKT\u001b[39m\u001b[38;5;124m\"\u001b[39m] \u001b[38;5;241m=\u001b[39m \u001b[43mdf_bairros\u001b[49m[\u001b[38;5;124m\"\u001b[39m\u001b[38;5;124mWKT\u001b[39m\u001b[38;5;124m\"\u001b[39m]\u001b[38;5;241m.\u001b[39mapply(shapely\u001b[38;5;241m.\u001b[39mwkt\u001b[38;5;241m.\u001b[39mloads)\n\u001b[0;32m      2\u001b[0m geo_bairros \u001b[38;5;241m=\u001b[39m gpd\u001b[38;5;241m.\u001b[39mGeoDataFrame(df_bairros, geometry \u001b[38;5;241m=\u001b[39m \u001b[38;5;124m'\u001b[39m\u001b[38;5;124mWKT\u001b[39m\u001b[38;5;124m'\u001b[39m )\n\u001b[0;32m      3\u001b[0m \u001b[38;5;28mtype\u001b[39m(geo_bairros)\n",
      "\u001b[1;31mNameError\u001b[0m: name 'df_bairros' is not defined"
     ]
    }
   ],
   "source": [
    "df_bairros[\"WKT\"] = df_bairros[\"WKT\"].apply(shapely.wkt.loads)\n",
    "geo_bairros = gpd.GeoDataFrame(df_bairros, geometry = 'WKT' )\n",
    "type(geo_bairros)"
   ]
  },
  {
   "cell_type": "markdown",
   "id": "c241b56d",
   "metadata": {},
   "source": [
    " - Observando os bairros geograficamente"
   ]
  },
  {
   "cell_type": "code",
   "execution_count": null,
   "id": "a4d388a4-1419-492c-8cc9-fcddf7dc0c66",
   "metadata": {},
   "outputs": [],
   "source": [
    "geo_bairros.plot(color = 'white', edgecolor='black', figsize=(20,12))"
   ]
  },
  {
   "cell_type": "markdown",
   "id": "d824c892",
   "metadata": {},
   "source": [
    " - Visualização das colunas do dataframe de propriedades"
   ]
  },
  {
   "cell_type": "code",
   "execution_count": null,
   "id": "de83cfd9-b406-44ce-aabf-f48cca5740eb",
   "metadata": {},
   "outputs": [],
   "source": [
    "df_prop3.info()"
   ]
  },
  {
   "cell_type": "markdown",
   "id": "8d70d60f",
   "metadata": {},
   "source": [
    " - Conversão das colunas latitude (lat) e longitude (lon) do dataframe propriedade em pontos geométricos"
   ]
  },
  {
   "cell_type": "code",
   "execution_count": null,
   "id": "65762c67-86a8-4521-a683-d906ebadd4d6",
   "metadata": {},
   "outputs": [],
   "source": [
    "geometria = gpd.points_from_xy(df_prop3['lon'],df_prop3['lat'])\n",
    "geometria[0:2]"
   ]
  },
  {
   "cell_type": "markdown",
   "id": "490bd396",
   "metadata": {},
   "source": [
    " - Inserindo os pontos geometricos numa nova coluna chamada geometry do dataframe de propriedade df_prop"
   ]
  },
  {
   "cell_type": "code",
   "execution_count": null,
   "id": "06fa8007-4a1c-468d-be69-1e61e13f3eb5",
   "metadata": {},
   "outputs": [],
   "source": [
    "df_prop3 = gpd.GeoDataFrame(df_prop3,\n",
    "                            geometry = geometria\n",
    "                           )"
   ]
  },
  {
   "cell_type": "markdown",
   "id": "e87b0bdf",
   "metadata": {},
   "source": [
    " - Observando as colunas com os dados geometricos no dataframe de propriedades df_prop3"
   ]
  },
  {
   "cell_type": "code",
   "execution_count": null,
   "id": "85521f38-b160-430f-81f2-af4f5eb828a6",
   "metadata": {},
   "outputs": [],
   "source": [
    "df_prop3.loc[ : , ['geometry', 'lat', 'lon', 'property_type', 'place_name']]"
   ]
  },
  {
   "cell_type": "markdown",
   "id": "e011f342",
   "metadata": {},
   "source": [
    " - Observando os dados de latitude e longitude para verificar se existe algum ponto muito distante"
   ]
  },
  {
   "cell_type": "code",
   "execution_count": null,
   "id": "272b3917-54cf-462d-a641-cfe9b4a921fb",
   "metadata": {
    "scrolled": true
   },
   "outputs": [],
   "source": [
    "df_prop3.sort_values(by='lat')"
   ]
  },
  {
   "cell_type": "markdown",
   "id": "27334c50",
   "metadata": {},
   "source": [
    "# Iremos analisar alguns gráficos com o preço médio por m2 por tipo de propriedade e bairro"
   ]
  },
  {
   "cell_type": "code",
   "execution_count": 9,
   "id": "a6db244d",
   "metadata": {},
   "outputs": [
    {
     "ename": "NameError",
     "evalue": "name 'df_prop3' is not defined",
     "output_type": "error",
     "traceback": [
      "\u001b[1;31m---------------------------------------------------------------------------\u001b[0m",
      "\u001b[1;31mNameError\u001b[0m                                 Traceback (most recent call last)",
      "Input \u001b[1;32mIn [9]\u001b[0m, in \u001b[0;36m<cell line: 1>\u001b[1;34m()\u001b[0m\n\u001b[1;32m----> 1\u001b[0m df_apart \u001b[38;5;241m=\u001b[39m \u001b[43mdf_prop3\u001b[49m\u001b[38;5;241m.\u001b[39mloc[ : , [\u001b[38;5;124m'\u001b[39m\u001b[38;5;124mproperty_type\u001b[39m\u001b[38;5;124m'\u001b[39m, \u001b[38;5;124m'\u001b[39m\u001b[38;5;124mplace_name\u001b[39m\u001b[38;5;124m'\u001b[39m, \u001b[38;5;124m'\u001b[39m\u001b[38;5;124mavg_price_m2\u001b[39m\u001b[38;5;124m'\u001b[39m]]\n\u001b[0;32m      3\u001b[0m avg_bairro_apart \u001b[38;5;241m=\u001b[39m df_apart\u001b[38;5;241m.\u001b[39mloc[df_apart[\u001b[38;5;124m'\u001b[39m\u001b[38;5;124mproperty_type\u001b[39m\u001b[38;5;124m'\u001b[39m] \u001b[38;5;241m==\u001b[39m \u001b[38;5;124m'\u001b[39m\u001b[38;5;124mapartment\u001b[39m\u001b[38;5;124m'\u001b[39m]\n\u001b[0;32m      4\u001b[0m avg_bairro_apart[\u001b[38;5;124m'\u001b[39m\u001b[38;5;124mplace_name\u001b[39m\u001b[38;5;124m'\u001b[39m] \u001b[38;5;241m=\u001b[39m avg_bairro_apart[\u001b[38;5;124m'\u001b[39m\u001b[38;5;124mplace_name\u001b[39m\u001b[38;5;124m'\u001b[39m]\u001b[38;5;241m.\u001b[39mstr\u001b[38;5;241m.\u001b[39mupper()\n",
      "\u001b[1;31mNameError\u001b[0m: name 'df_prop3' is not defined"
     ]
    }
   ],
   "source": [
    "df_apart = df_prop3.loc[ : , ['property_type', 'place_name', 'avg_price_m2']]\n",
    "\n",
    "avg_bairro_apart = df_apart.loc[df_apart['property_type'] == 'apartment']\n",
    "avg_bairro_apart['place_name'] = avg_bairro_apart['place_name'].str.upper()\n",
    "\n",
    "geodata_apart = pd.merge(left=avg_bairro_apart, right=df_bairros, left_on='place_name', right_on='NEIGHBORHOOD', how='inner')\n",
    "geodata_apart = geodata_apart.rename(columns={\"WKT\": \"geometry\"})\n",
    "geodata_apart = geodata_apart.drop(columns=['NEIGHBORHOOD','COMMUNE','PERIMETER','AREA'])\n",
    "geodata_apart = geodata_apart.drop_duplicates(subset=['place_name'])\n",
    "\n",
    "geodf_apart = gpd.GeoDataFrame(geodata_apart)\n",
    "\n",
    "ax = geodf_apart.loc[geodf_apart['property_type'] == 'apartment'].plot(\n",
    "    figsize=(20,16),\n",
    "    edgecolor='black',column='avg_price_m2',\n",
    "    legend=True,\n",
    "    legend_kwds={'label': \"Valor médio por Bairro\",'orientation':\"vertical\" })\n",
    "\n",
    "for i in geodf_apart.index:\n",
    "    plt.text(geodf_apart.geometry.centroid[i].coords[0][0], geodf_apart.geometry.centroid[i].coords[0][1], geodf_apart.place_name[i],\n",
    "             fontsize=8, horizontalalignment='center', verticalalignment='center', color = 'cyan')\n",
    "    \n",
    "ax.set_axis_off();\n",
    "ax.set_title(\"PREÇO MÉDIO POR M2 DE APARTAMENTOS\",fontsize=26);"
   ]
  },
  {
   "cell_type": "code",
   "execution_count": null,
   "id": "d0e10dbc",
   "metadata": {},
   "outputs": [],
   "source": [
    "df_PH = df_prop3.loc[ : , ['property_type', 'place_name', 'avg_price_m2']]\n",
    "\n",
    "avg_bairro_PH = df_PH.loc[df_PH['property_type'] == 'PH']\n",
    "avg_bairro_PH['place_name'] = avg_bairro_PH['place_name'].str.upper()\n",
    "\n",
    "geodata_PH = pd.merge(left=avg_bairro_PH, right=df_bairros, left_on='place_name', right_on='NEIGHBORHOOD', how='inner')\n",
    "geodata_PH = geodata_PH.rename(columns={\"WKT\": \"geometry\"})\n",
    "geodata_PH = geodata_PH.drop(columns=['NEIGHBORHOOD','COMMUNE','PERIMETER','AREA'])\n",
    "geodata_PH = geodata_PH.drop_duplicates(subset=['place_name'])\n",
    "\n",
    "geodf_PH = gpd.GeoDataFrame(geodata_PH)\n",
    "\n",
    "ax = geodf_PH.loc[geodf_PH['property_type'] == 'PH'].plot(\n",
    "    figsize=(20,16),\n",
    "    edgecolor='black',column='avg_price_m2',\n",
    "    legend=True,\n",
    "    legend_kwds={'label': \"Valor médio por Bairro\",'orientation':\"vertical\" })\n",
    "\n",
    "for i in geodf_PH.index:\n",
    "    plt.text(geodf_PH.geometry.centroid[i].coords[0][0], geodf_PH.geometry.centroid[i].coords[0][1], geodf_PH.place_name[i],\n",
    "             fontsize=8, horizontalalignment='center', verticalalignment='center', color = 'cyan')\n",
    "    \n",
    "ax.set_axis_off();\n",
    "ax.set_title(\"PREÇO MÉDIO POR M2 DE PH\",fontsize=26);"
   ]
  },
  {
   "cell_type": "code",
   "execution_count": null,
   "id": "f8c815b2",
   "metadata": {},
   "outputs": [],
   "source": [
    "df_store = df_prop3.loc[ : , ['property_type', 'place_name', 'avg_price_m2']]\n",
    "\n",
    "avg_bairro_store = df_store.loc[df_store['property_type'] == 'store']\n",
    "avg_bairro_store['place_name'] = avg_bairro_store['place_name'].str.upper()\n",
    "\n",
    "geodata_store = pd.merge(left=avg_bairro_store, right=df_bairros, left_on='place_name', right_on='NEIGHBORHOOD', how='inner')\n",
    "geodata_store = geodata_store.rename(columns={\"WKT\": \"geometry\"})\n",
    "geodata_store = geodata_store.drop(columns=['NEIGHBORHOOD','COMMUNE','PERIMETER','AREA'])\n",
    "geodata_store = geodata_store.drop_duplicates(subset=['place_name'])\n",
    "\n",
    "geodf_store = gpd.GeoDataFrame(geodata_store)\n",
    "\n",
    "ax = geodf_store.loc[geodf_store['property_type'] == 'store'].plot(\n",
    "    figsize=(20,16),\n",
    "    edgecolor='black',column='avg_price_m2',\n",
    "    legend=True,\n",
    "    legend_kwds={'label': \"Valor médio por Bairro\",'orientation':\"vertical\" })\n",
    "\n",
    "for i in geodf_store.index:\n",
    "    plt.text(geodf_store.geometry.centroid[i].coords[0][0], geodf_store.geometry.centroid[i].coords[0][1], geodf_store.place_name[i],\n",
    "             fontsize=8, horizontalalignment='center', verticalalignment='center', color = 'cyan')\n",
    "    \n",
    "ax.set_axis_off();\n",
    "ax.set_title(\"PREÇO MÉDIO POR M2 DE LOJAS\",fontsize=26);"
   ]
  },
  {
   "cell_type": "code",
   "execution_count": null,
   "id": "d8257086",
   "metadata": {},
   "outputs": [],
   "source": [
    "df_house = df_prop3.loc[ : , ['property_type', 'place_name', 'avg_price_m2']]\n",
    "\n",
    "avg_bairro_house = df_house.loc[df_house['property_type'] == 'house']\n",
    "avg_bairro_house['place_name'] = avg_bairro_house['place_name'].str.upper()\n",
    "\n",
    "geodata_house = pd.merge(left=avg_bairro_house, right=df_bairros, left_on='place_name', right_on='NEIGHBORHOOD', how='inner')\n",
    "geodata_house = geodata_house.rename(columns={\"WKT\": \"geometry\"})\n",
    "geodata_house = geodata_house.drop(columns=['NEIGHBORHOOD','COMMUNE','PERIMETER','AREA'])\n",
    "geodata_house = geodata_house.drop_duplicates(subset=['place_name'])\n",
    "\n",
    "geodf_house = gpd.GeoDataFrame(geodata_house)\n",
    "\n",
    "ax = geodf_house.loc[geodf_house['property_type'] == 'house'].plot(\n",
    "    figsize=(20,16),\n",
    "    edgecolor='black',column='avg_price_m2',\n",
    "    legend=True,\n",
    "    legend_kwds={'label': \"Valor médio por Bairro\",'orientation':\"vertical\" })\n",
    "\n",
    "for i in geodf_house.index:\n",
    "    plt.text(geodf_house.geometry.centroid[i].coords[0][0], geodf_house.geometry.centroid[i].coords[0][1], geodf_house.place_name[i],\n",
    "             fontsize=8, horizontalalignment='center', verticalalignment='center', color = 'cyan')\n",
    "    \n",
    "ax.set_axis_off();\n",
    "ax.set_title(\"PREÇO MÉDIO POR M2 DE CASAS\",fontsize=26);"
   ]
  },
  {
   "cell_type": "markdown",
   "id": "443d3938-5998-40c7-85e9-1bcdc72fa333",
   "metadata": {},
   "source": [
    "# Visualização geográfica das propriedades por tipos de propriedade\n",
    " - Criaçao de um dataframe para propriedade do tipo apartamento"
   ]
  },
  {
   "cell_type": "code",
   "execution_count": null,
   "id": "c3d0913f-b637-4abb-8e1d-97f74a3842ee",
   "metadata": {
    "scrolled": true
   },
   "outputs": [],
   "source": [
    "df_apartment = df_prop3.loc[df_prop3['property_type'] == 'apartment', :]\n",
    "display(df_apartment.head(3))"
   ]
  },
  {
   "cell_type": "markdown",
   "id": "0308cb39",
   "metadata": {},
   "source": [
    " - Criação de um série para receber a coluna geometry de propriedades tipo apartamento"
   ]
  },
  {
   "cell_type": "code",
   "execution_count": null,
   "id": "fbb6598f-fd9d-4a6e-9a04-c8dad0250927",
   "metadata": {},
   "outputs": [],
   "source": [
    "geo_apartment = df_apartment['geometry']"
   ]
  },
  {
   "cell_type": "markdown",
   "id": "60a96e01",
   "metadata": {},
   "source": [
    " - Criaçao de um dataframe para propriedade do tipo HOUSE"
   ]
  },
  {
   "cell_type": "code",
   "execution_count": null,
   "id": "17c28f9c-18b8-4f96-a34e-1aea12c75e91",
   "metadata": {
    "scrolled": true
   },
   "outputs": [],
   "source": [
    "df_house = df_prop3.loc[df_prop3['property_type'] == 'house', :]\n",
    "display(df_house.head(3))"
   ]
  },
  {
   "cell_type": "markdown",
   "id": "ceac1b62",
   "metadata": {},
   "source": [
    " - Criação de um série para receber a coluna geometry de propriedades tipo HOUSE"
   ]
  },
  {
   "cell_type": "code",
   "execution_count": null,
   "id": "092fb1f3-92e6-42e9-8e39-8736862e988b",
   "metadata": {},
   "outputs": [],
   "source": [
    "geo_house = df_house['geometry']"
   ]
  },
  {
   "cell_type": "markdown",
   "id": "dead6ad5",
   "metadata": {},
   "source": [
    " - Criaçao de um dataframe para propriedade do tipo PH"
   ]
  },
  {
   "cell_type": "code",
   "execution_count": null,
   "id": "832e21e5-07bb-49c3-8e3f-568c09d60b84",
   "metadata": {
    "scrolled": true
   },
   "outputs": [],
   "source": [
    "df_PH = df_prop3.loc[df_prop3['property_type'] == 'PH', :]\n",
    "display(df_PH.head(3))"
   ]
  },
  {
   "cell_type": "markdown",
   "id": "7b55054a",
   "metadata": {},
   "source": [
    " - Criação de um série para receber a coluna geometry de propriedades tipo PH"
   ]
  },
  {
   "cell_type": "code",
   "execution_count": null,
   "id": "e9ddbc35-e3dd-4c42-a181-f4273672a3e5",
   "metadata": {},
   "outputs": [],
   "source": [
    "geo_PH = df_PH['geometry']"
   ]
  },
  {
   "cell_type": "markdown",
   "id": "98aa8415",
   "metadata": {},
   "source": [
    " - Criaçao de um dataframe para propriedade do tipo store"
   ]
  },
  {
   "cell_type": "code",
   "execution_count": null,
   "id": "7236a252-f3b7-469e-988c-a59e97f89b3f",
   "metadata": {
    "scrolled": true
   },
   "outputs": [],
   "source": [
    "df_store = df_prop3.loc[df_prop3['property_type'] == 'store', :]\n",
    "display(df_store.head(3))"
   ]
  },
  {
   "cell_type": "markdown",
   "id": "e677bcc0",
   "metadata": {},
   "source": [
    " - Criação de um série para receber a coluna geometry de propriedades tipo PH"
   ]
  },
  {
   "cell_type": "code",
   "execution_count": null,
   "id": "a209e197-aef7-43f4-8c4d-78e7d3cfac27",
   "metadata": {},
   "outputs": [],
   "source": [
    "geo_store = df_store['geometry']"
   ]
  },
  {
   "cell_type": "code",
   "execution_count": null,
   "id": "56d9f3ab-797b-4635-a76d-7f2446e12e6c",
   "metadata": {},
   "outputs": [],
   "source": [
    "plt.rcParams[\"figure.figsize\"] = (20, 14)"
   ]
  },
  {
   "cell_type": "code",
   "execution_count": null,
   "id": "1c189b3b-a88c-4da7-9775-cf3543ff1b32",
   "metadata": {},
   "outputs": [],
   "source": [
    "fig, ax = plt.subplots()\n",
    "ax.set_aspect(\"equal\")\n",
    "geo_bairros.plot(ax = ax,\n",
    "                 color = 'white',\n",
    "                 edgecolor = 'black',\n",
    "                )\n",
    "geo_house.plot(ax = ax,\n",
    "               color = 'red'\n",
    "              )\n",
    "geo_apartment.plot(ax = ax,\n",
    "                   color = 'blue',\n",
    "                   alpha = 0.1\n",
    "                  )\n",
    "geo_PH.plot(ax = ax,\n",
    "            color = 'green'\n",
    "           )\n",
    "geo_store.plot(ax = ax,\n",
    "               color = 'purple'\n",
    "              )\n",
    "plt.legend([\"House\",\"Apartment\",\"PH\",\"Store\"],\n",
    "           bbox_to_anchor = (1.05, 0.6)\n",
    "          )\n",
    "                           \n",
    "plt.show();"
   ]
  },
  {
   "cell_type": "markdown",
   "id": "cb55922e",
   "metadata": {},
   "source": [
    "# Verificamos no gráfico acima que existem registros fora de Buenos Aires Capital. Em seguida iremos eliminar esses registros."
   ]
  },
  {
   "cell_type": "markdown",
   "id": "a8eef23b",
   "metadata": {},
   "source": [
    " - Quantidade de linhas e colunas"
   ]
  },
  {
   "cell_type": "code",
   "execution_count": null,
   "id": "eba01dcf-b5ba-4564-b48d-da32f1fbd138",
   "metadata": {},
   "outputs": [],
   "source": [
    "df_prop3.shape"
   ]
  },
  {
   "cell_type": "markdown",
   "id": "4f2946b8",
   "metadata": {},
   "source": [
    " - Fazendo um join entre o dataframe das propriedades e bairro, o df_prop3 será atualizado apenas com as propriedades cuja localização está dentro de algum poligono de bairro"
   ]
  },
  {
   "cell_type": "code",
   "execution_count": null,
   "id": "582a9595",
   "metadata": {
    "scrolled": true
   },
   "outputs": [],
   "source": [
    "df_prop3 = gpd.sjoin(df_prop3, geo_bairros, how='inner', op='within')"
   ]
  },
  {
   "cell_type": "markdown",
   "id": "84370246",
   "metadata": {},
   "source": [
    " - Quantidade de linhas e colunas após o join"
   ]
  },
  {
   "cell_type": "code",
   "execution_count": null,
   "id": "c5779bd8",
   "metadata": {},
   "outputs": [],
   "source": [
    "df_prop3.shape"
   ]
  },
  {
   "cell_type": "markdown",
   "id": "3cff3203",
   "metadata": {},
   "source": [
    "# Alimentando as máscaras novamente para plotar o gráfico e checar se ficou ainda algum registro fora de Buenos Aires Capital"
   ]
  },
  {
   "cell_type": "code",
   "execution_count": null,
   "id": "cfa9d21e",
   "metadata": {},
   "outputs": [],
   "source": [
    "df_apartment = df_prop3.loc[df_prop3['property_type'] == 'apartment', :]\n",
    "geo_apartment = df_apartment['geometry']\n",
    "df_house = df_prop3.loc[df_prop3['property_type'] == 'house', :]\n",
    "geo_house = df_house['geometry']\n",
    "df_PH = df_prop3.loc[df_prop3['property_type'] == 'PH', :]\n",
    "geo_PH = df_PH['geometry']\n",
    "df_store = df_prop3.loc[df_prop3['property_type'] == 'store', :]\n",
    "geo_PH = df_PH['geometry']\n",
    "geo_store = df_store['geometry']"
   ]
  },
  {
   "cell_type": "code",
   "execution_count": null,
   "id": "86437dcf",
   "metadata": {},
   "outputs": [],
   "source": [
    "plt.rcParams[\"figure.figsize\"] = (20, 14)"
   ]
  },
  {
   "cell_type": "code",
   "execution_count": null,
   "id": "53dc3a63",
   "metadata": {},
   "outputs": [],
   "source": [
    "fig, ax = plt.subplots()\n",
    "ax.set_aspect(\"equal\")\n",
    "geo_bairros.plot(ax = ax,\n",
    "                 color = 'white',\n",
    "                 edgecolor = 'black',\n",
    "                )\n",
    "geo_house.plot(ax = ax,\n",
    "               color = 'red'\n",
    "              )\n",
    "geo_apartment.plot(ax = ax,\n",
    "                   color = 'blue',\n",
    "                   alpha = 0.1\n",
    "                  )\n",
    "geo_PH.plot(ax = ax,\n",
    "            color = 'green'\n",
    "           )\n",
    "geo_store.plot(ax = ax,\n",
    "               color = 'purple'\n",
    "              )\n",
    "plt.legend([\"House\",\"Apartment\",\"PH\",\"Store\"],\n",
    "           bbox_to_anchor = (1.05, 0.6)\n",
    "          )\n",
    "                           \n",
    "plt.show();"
   ]
  },
  {
   "cell_type": "markdown",
   "id": "b5a558e2-da8b-4e79-a33d-45ffc0fc0306",
   "metadata": {},
   "source": [
    "# Análise de Correlação"
   ]
  },
  {
   "cell_type": "markdown",
   "id": "122d36a1-05df-48ef-baaf-c30bbe926dea",
   "metadata": {},
   "source": [
    "- Gráfico de dispersão do preço das propriedades tipo apartamento e o tamanho em m2"
   ]
  },
  {
   "cell_type": "code",
   "execution_count": 10,
   "id": "df87c0a3",
   "metadata": {},
   "outputs": [
    {
     "ename": "NameError",
     "evalue": "name 'df_prop3' is not defined",
     "output_type": "error",
     "traceback": [
      "\u001b[1;31m---------------------------------------------------------------------------\u001b[0m",
      "\u001b[1;31mNameError\u001b[0m                                 Traceback (most recent call last)",
      "Input \u001b[1;32mIn [10]\u001b[0m, in \u001b[0;36m<cell line: 3>\u001b[1;34m()\u001b[0m\n\u001b[0;32m      1\u001b[0m sns\u001b[38;5;241m.\u001b[39mset_style(\u001b[38;5;124m'\u001b[39m\u001b[38;5;124mwhitegrid\u001b[39m\u001b[38;5;124m'\u001b[39m)\n\u001b[0;32m      2\u001b[0m plt\u001b[38;5;241m.\u001b[39mfigure(figsize \u001b[38;5;241m=\u001b[39m (\u001b[38;5;241m20\u001b[39m, \u001b[38;5;241m12\u001b[39m))\n\u001b[1;32m----> 3\u001b[0m sns\u001b[38;5;241m.\u001b[39mscatterplot(data \u001b[38;5;241m=\u001b[39m \u001b[43mdf_prop3\u001b[49m[df_prop3[\u001b[38;5;124m'\u001b[39m\u001b[38;5;124mproperty_type\u001b[39m\u001b[38;5;124m'\u001b[39m]\u001b[38;5;241m==\u001b[39m\u001b[38;5;124m'\u001b[39m\u001b[38;5;124mapartment\u001b[39m\u001b[38;5;124m'\u001b[39m], x \u001b[38;5;241m=\u001b[39m \u001b[38;5;124m\"\u001b[39m\u001b[38;5;124mprice_usd\u001b[39m\u001b[38;5;124m\"\u001b[39m, y \u001b[38;5;241m=\u001b[39m \u001b[38;5;124m\"\u001b[39m\u001b[38;5;124mtotal_m2\u001b[39m\u001b[38;5;124m\"\u001b[39m)\n\u001b[0;32m      4\u001b[0m plt\u001b[38;5;241m.\u001b[39mxlabel(\u001b[38;5;124m\"\u001b[39m\u001b[38;5;124mPrice USD\u001b[39m\u001b[38;5;124m\"\u001b[39m); plt\u001b[38;5;241m.\u001b[39mylabel(\u001b[38;5;124m\"\u001b[39m\u001b[38;5;124mTotal M2\u001b[39m\u001b[38;5;124m\"\u001b[39m);plt\u001b[38;5;241m.\u001b[39mtitle(\u001b[38;5;124m\"\u001b[39m\u001b[38;5;124mScatter Plot\u001b[39m\u001b[38;5;124m\"\u001b[39m)\n\u001b[0;32m      5\u001b[0m plt\u001b[38;5;241m.\u001b[39mshow()\n",
      "\u001b[1;31mNameError\u001b[0m: name 'df_prop3' is not defined"
     ]
    },
    {
     "data": {
      "text/plain": [
       "<Figure size 1440x864 with 0 Axes>"
      ]
     },
     "metadata": {},
     "output_type": "display_data"
    }
   ],
   "source": [
    "sns.set_style('whitegrid')\n",
    "plt.figure(figsize = (20, 12))\n",
    "sns.scatterplot(data = df_prop3[df_prop3['property_type']=='apartment'], x = \"price_usd\", y = \"total_m2\")\n",
    "plt.xlabel(\"Price USD\"); plt.ylabel(\"Total M2\");plt.title(\"Scatter Plot\")\n",
    "plt.show()"
   ]
  },
  {
   "cell_type": "markdown",
   "id": "d0e573f0",
   "metadata": {},
   "source": [
    "# Abaixo verificamos a influência dos bairros nos preços por m2 em cada tipo de propriedade"
   ]
  },
  {
   "cell_type": "code",
   "execution_count": null,
   "id": "6badddb9",
   "metadata": {},
   "outputs": [],
   "source": [
    "sns.set_style('whitegrid')\n",
    "plt.figure(figsize = (20, 15))\n",
    "sns.scatterplot(data = df_prop3[df_prop3['property_type']=='apartment'], x = \"price_m2\", y = \"place_name\")\n",
    "plt.xlabel(\"Price M2\"); plt.ylabel(\"Place Name\");plt.title(\"Scatter Plot\")\n",
    "plt.show()"
   ]
  },
  {
   "cell_type": "code",
   "execution_count": null,
   "id": "135705f8",
   "metadata": {},
   "outputs": [],
   "source": [
    "sns.set_style('whitegrid')\n",
    "plt.figure(figsize = (20, 12))\n",
    "sns.scatterplot(data = df_prop3[df_prop3['property_type']=='house'], x = \"price_m2\", y = \"place_name\")\n",
    "plt.xlabel(\"Price M2\"); plt.ylabel(\"Place Name\");plt.title(\"Scatter Plot\")\n",
    "plt.show()"
   ]
  },
  {
   "cell_type": "code",
   "execution_count": null,
   "id": "a870d6ee",
   "metadata": {},
   "outputs": [],
   "source": [
    "sns.set_style('whitegrid')\n",
    "plt.figure(figsize = (20, 12))\n",
    "sns.scatterplot(data = df_prop3[df_prop3['property_type']=='PH'], x = \"price_m2\", y = \"place_name\")\n",
    "plt.xlabel(\"Price M2\"); plt.ylabel(\"Place Name\");plt.title(\"Scatter Plot\")\n",
    "plt.show()"
   ]
  },
  {
   "cell_type": "code",
   "execution_count": null,
   "id": "95ff0e23",
   "metadata": {},
   "outputs": [],
   "source": [
    "sns.set_style('whitegrid')\n",
    "plt.figure(figsize = (20, 12))\n",
    "sns.scatterplot(data = df_prop3[df_prop3['property_type']=='store'], x = \"price_m2\", y = \"place_name\")\n",
    "plt.xlabel(\"Price M2\"); plt.ylabel(\"Place Name\");plt.title(\"Scatter Plot\")\n",
    "plt.show()"
   ]
  },
  {
   "cell_type": "markdown",
   "id": "2d7f42c6-c644-4d33-97ad-ce43f36fd62f",
   "metadata": {},
   "source": [
    "- Gráfico de dispersão do preço das propriedades tipo apartamento nos bairros"
   ]
  },
  {
   "cell_type": "code",
   "execution_count": null,
   "id": "f23a8a0e",
   "metadata": {},
   "outputs": [],
   "source": [
    "sns.pairplot(data = df_prop3[['property_type','place_name','lat','lon','total_m2','price_usd','price_m2','avg_price_m2']], hue = 'property_type', height = 1.8)"
   ]
  },
  {
   "cell_type": "markdown",
   "id": "a8ca49da",
   "metadata": {},
   "source": [
    "# Após a análise dos gráficos de correlação percebemos que há uma relação forte entre as colunas price_usd e total_m2.\n",
    " - Durante nossa etapa de limpeza e transformação optamos por criar uma coluna price_m2 que é a divisão entre o price_usd e o total_m2;\n",
    " - Sendo assim para nosso modelo de dados deixaremos as colunas float de price_m2 e avg_price_m2. A avg_price_m2 é uma média dos preços por property_type e place_name. Entendemos que ela possa servir como um indicador para auxiliar o machine learning a entender a variação de preços por property_type e place_name;\n",
    " - Criaremos abaixo as variáveis dummies por property_type e place_name."
   ]
  },
  {
   "cell_type": "markdown",
   "id": "5592fc9c-126c-4fcf-b998-4a1eac85ba15",
   "metadata": {},
   "source": [
    "# Dummy da variável tipo de propriedade "
   ]
  },
  {
   "cell_type": "markdown",
   "id": "823f6e3d-3004-4352-9edd-081db457182d",
   "metadata": {},
   "source": [
    "- Criação de um novo df_prop5 com as coluna property_place e o preço m2"
   ]
  },
  {
   "cell_type": "code",
   "execution_count": null,
   "id": "cdcb3a59-fd9f-4c3c-8bd6-73c5030e2065",
   "metadata": {},
   "outputs": [],
   "source": [
    "df_prop3.head(3)"
   ]
  },
  {
   "cell_type": "code",
   "execution_count": null,
   "id": "8d01c044-f4b7-47b0-ae69-f7108762d95e",
   "metadata": {},
   "outputs": [],
   "source": [
    "df_prop5 = df_prop3.loc[:,[\"property_type\",\"place_name\",\"price_m2\",\"avg_price_m2\"]]"
   ]
  },
  {
   "cell_type": "markdown",
   "id": "4b2361e9-133d-4406-bad7-5bfacbad3327",
   "metadata": {},
   "source": [
    "- verificando as primeiras linhas e quantidade registros"
   ]
  },
  {
   "cell_type": "code",
   "execution_count": null,
   "id": "0e0463db-a68b-49f3-8a2d-96661cb22a3d",
   "metadata": {},
   "outputs": [],
   "source": [
    "df_prop5.head(3)"
   ]
  },
  {
   "cell_type": "code",
   "execution_count": null,
   "id": "9bed2b05",
   "metadata": {},
   "outputs": [],
   "source": [
    "df_prop5.shape[0]"
   ]
  },
  {
   "cell_type": "markdown",
   "id": "f2089523-87fe-4539-99c8-0cd0aa74394f",
   "metadata": {},
   "source": [
    "- Criação Dummy Indicator columns para criar colunas fictícias para property_type, utilizamos drop_first para eliminar a primeira variável"
   ]
  },
  {
   "cell_type": "code",
   "execution_count": null,
   "id": "8a435c9b-4836-40c9-b857-678a777171f6",
   "metadata": {},
   "outputs": [],
   "source": [
    "df_prop5_dummy = pd.get_dummies(df_prop5, columns=['property_type'], prefix=\"type\", prefix_sep=\"_\", drop_first=False)"
   ]
  },
  {
   "cell_type": "code",
   "execution_count": null,
   "id": "b2f1e302-5851-4645-8154-aa2e3c15bd5e",
   "metadata": {},
   "outputs": [],
   "source": [
    "df_prop5_dummy.head(5)"
   ]
  },
  {
   "cell_type": "code",
   "execution_count": null,
   "id": "90320063",
   "metadata": {},
   "outputs": [],
   "source": [
    "df_prop5_dummy = pd.get_dummies(df_prop5_dummy, columns=['place_name'], prefix=\"place\", prefix_sep=\"_\", drop_first=False)"
   ]
  },
  {
   "cell_type": "code",
   "execution_count": 11,
   "id": "f6d2b5d5",
   "metadata": {},
   "outputs": [
    {
     "ename": "NameError",
     "evalue": "name 'df_prop5_dummy' is not defined",
     "output_type": "error",
     "traceback": [
      "\u001b[1;31m---------------------------------------------------------------------------\u001b[0m",
      "\u001b[1;31mNameError\u001b[0m                                 Traceback (most recent call last)",
      "Input \u001b[1;32mIn [11]\u001b[0m, in \u001b[0;36m<cell line: 1>\u001b[1;34m()\u001b[0m\n\u001b[1;32m----> 1\u001b[0m \u001b[43mdf_prop5_dummy\u001b[49m\u001b[38;5;241m.\u001b[39mhead(\u001b[38;5;241m5\u001b[39m)\n",
      "\u001b[1;31mNameError\u001b[0m: name 'df_prop5_dummy' is not defined"
     ]
    }
   ],
   "source": [
    "df_prop5_dummy.head(5)"
   ]
  },
  {
   "cell_type": "code",
   "execution_count": null,
   "id": "c8c381be",
   "metadata": {},
   "outputs": [],
   "source": [
    "df_prop5_dummy.shape"
   ]
  },
  {
   "cell_type": "markdown",
   "id": "57343d07-e763-4f55-90ae-20fa7b5fd6eb",
   "metadata": {},
   "source": [
    "# AQUI COMEÇA "
   ]
  },
  {
   "cell_type": "markdown",
   "id": "08d0a58a-55f8-49fd-9214-cd1714461d45",
   "metadata": {},
   "source": [
    "# Inclusão coluna com a distancia das propriedades até o obelisco"
   ]
  },
  {
   "cell_type": "markdown",
   "id": "ce5fd494-facf-4d05-bc8e-89ced0083a39",
   "metadata": {},
   "source": [
    "# Definindo as coordenadas do Obelisco"
   ]
  },
  {
   "cell_type": "code",
   "execution_count": null,
   "id": "2796c8af-ec6c-4c44-9e92-b1f15f2bcb28",
   "metadata": {},
   "outputs": [],
   "source": [
    "from shapely.geometry import Point\n",
    "ponto_obelisco_p = Point(-58.381555, -34.605425)"
   ]
  },
  {
   "cell_type": "code",
   "execution_count": null,
   "id": "44fbf195-5c00-44f7-be52-2df565a5a6f9",
   "metadata": {},
   "outputs": [],
   "source": [
    "type(ponto_obelisco_p)"
   ]
  },
  {
   "cell_type": "code",
   "execution_count": null,
   "id": "e4738b7a-cb68-442b-a04a-998e23b8d536",
   "metadata": {},
   "outputs": [],
   "source": [
    "ponto_obelisco = (-58.381555, -34.605425)"
   ]
  },
  {
   "cell_type": "code",
   "execution_count": null,
   "id": "7219a71c-1365-419c-9fa5-1ba9db1fef02",
   "metadata": {},
   "outputs": [],
   "source": [
    "type(ponto_obelisco)"
   ]
  },
  {
   "cell_type": "markdown",
   "id": "660c2fde-af17-4a43-919c-0186ca374d1b",
   "metadata": {},
   "source": [
    "Criação da coluna com a distancia até o obelisco no df_prop3"
   ]
  },
  {
   "cell_type": "code",
   "execution_count": null,
   "id": "c5f3e3a4-ca17-4b08-b1ae-2f9c28343015",
   "metadata": {},
   "outputs": [],
   "source": [
    "import geopy.distance\n",
    "\n",
    "for i in df_prop3.index:\n",
    "    df_prop3.loc[i, 'dist_obelisk'] = geopy.distance.geodesic(ponto_obelisco,\n",
    "                                                                  (df_prop3.loc[i, 'geometry'].x ,df_prop3.loc[i, 'geometry'].y)\n",
    "                                                                 ).meters"
   ]
  },
  {
   "cell_type": "markdown",
   "id": "67988111-02da-4e39-a105-5277b27cf6b5",
   "metadata": {},
   "source": [
    "Observando as primeiras linhas do df_prop3"
   ]
  },
  {
   "cell_type": "code",
   "execution_count": null,
   "id": "eed80040-51ea-410a-9f38-180931eb696f",
   "metadata": {},
   "outputs": [],
   "source": [
    "df_prop3.loc[:4, ['dist_obelisk', 'geometry', 'lat', 'lon','property_type', 'place_name']]"
   ]
  },
  {
   "cell_type": "markdown",
   "id": "398d3a8e-261d-4589-b2ec-2f11da455719",
   "metadata": {},
   "source": [
    "Vizualização do pairplot com  nova coluna para ver se há correlação com as demais variáveis "
   ]
  },
  {
   "cell_type": "code",
   "execution_count": null,
   "id": "8566d090-e9c4-4d36-bb60-2b388d17a13d",
   "metadata": {},
   "outputs": [],
   "source": [
    "sns.pairplot(data = df_prop3[['property_type','total_m2','price_usd','price_m2','avg_price_m2','dist_obelisk']], hue = 'property_type');"
   ]
  },
  {
   "cell_type": "markdown",
   "id": "ace11b72-ed31-4b47-8e6f-ce077b269e4c",
   "metadata": {},
   "source": [
    "Heatmap correlação"
   ]
  },
  {
   "cell_type": "code",
   "execution_count": null,
   "id": "e30def9c-1b1d-4dc2-affe-091e476375f3",
   "metadata": {},
   "outputs": [],
   "source": [
    "df_prop3_corr = df_prop3.loc[:,['place_name','total_m2','price_usd','price_m2','avg_price_m2','geometry','dist_obelisk']]\n",
    "df_prop3_corr.head(5)"
   ]
  },
  {
   "cell_type": "code",
   "execution_count": null,
   "id": "f4152381-7ed5-4838-94b6-14d28f8fdbb7",
   "metadata": {},
   "outputs": [],
   "source": [
    "sns.heatmap(df_prop3_corr.corr(), \n",
    "            annot = True, \n",
    "            vmin = -1, \n",
    "            cmap = 'Blues'\n",
    "           );"
   ]
  },
  {
   "cell_type": "markdown",
   "id": "59901dda-e72f-4b87-98b0-78353e5a4e67",
   "metadata": {},
   "source": [
    "Observando se há padrões relevantes a olho nu entre a distancia e o preço m2 com scatterplot"
   ]
  },
  {
   "cell_type": "code",
   "execution_count": 12,
   "id": "d7e32dd7-8c39-4b94-8580-1322e2d466a2",
   "metadata": {},
   "outputs": [
    {
     "ename": "NameError",
     "evalue": "name 'df_prop3' is not defined",
     "output_type": "error",
     "traceback": [
      "\u001b[1;31m---------------------------------------------------------------------------\u001b[0m",
      "\u001b[1;31mNameError\u001b[0m                                 Traceback (most recent call last)",
      "Input \u001b[1;32mIn [12]\u001b[0m, in \u001b[0;36m<cell line: 1>\u001b[1;34m()\u001b[0m\n\u001b[1;32m----> 1\u001b[0m df_prop3_corr \u001b[38;5;241m=\u001b[39m \u001b[43mdf_prop3\u001b[49m\u001b[38;5;241m.\u001b[39mloc[:,[\u001b[38;5;124m'\u001b[39m\u001b[38;5;124mproperty_type\u001b[39m\u001b[38;5;124m'\u001b[39m,\u001b[38;5;124m'\u001b[39m\u001b[38;5;124mdist_obelisk\u001b[39m\u001b[38;5;124m'\u001b[39m,\u001b[38;5;124m'\u001b[39m\u001b[38;5;124mprice_m2\u001b[39m\u001b[38;5;124m'\u001b[39m]]\n",
      "\u001b[1;31mNameError\u001b[0m: name 'df_prop3' is not defined"
     ]
    }
   ],
   "source": [
    "df_prop3_corr = df_prop3.loc[:,['property_type','dist_obelisk','price_m2']]"
   ]
  },
  {
   "cell_type": "code",
   "execution_count": null,
   "id": "641b176e-be1d-4bf7-9939-eeac1ff54c54",
   "metadata": {},
   "outputs": [],
   "source": [
    "df_prop3_corr.describe().T"
   ]
  },
  {
   "cell_type": "markdown",
   "id": "98052cb0-e7cd-49d5-865c-8f8cec7529cb",
   "metadata": {},
   "source": [
    "# INICIO PROJETO PARTE II"
   ]
  },
  {
   "cell_type": "markdown",
   "id": "6453eb36-caf6-4fb9-a9b5-78378237bd1b",
   "metadata": {},
   "source": [
    "# Segmentação dos dados para trabalhar com cerca de 2.000 registros"
   ]
  },
  {
   "cell_type": "markdown",
   "id": "4eae8ddb-e6c0-4147-ab51-a109215fef7b",
   "metadata": {},
   "source": [
    "Observando a quantidade de propriedades por bairro"
   ]
  },
  {
   "cell_type": "code",
   "execution_count": null,
   "id": "2c4afe60-9280-44d6-8c3f-7352d7788921",
   "metadata": {},
   "outputs": [],
   "source": [
    "df_prop3.value_counts('place_name').head(10)"
   ]
  },
  {
   "cell_type": "markdown",
   "id": "a9e4aafe-8bcf-462b-8976-0e2b0789af90",
   "metadata": {},
   "source": [
    "Segmentando o conjunto de dados por tipo de propriedade apartamento e features que serão utilizadas"
   ]
  },
  {
   "cell_type": "code",
   "execution_count": null,
   "id": "9297640b-6f3d-4cc1-8857-860ad929f1f1",
   "metadata": {},
   "outputs": [],
   "source": [
    "df_prop4 = df_prop3.loc[:,['place_name','property_type','price_m2','avg_price_m2','total_m2','price_usd','dist_obelisk']]"
   ]
  },
  {
   "cell_type": "markdown",
   "id": "34060973-3a1f-4fe7-a723-be4832494f5e",
   "metadata": {},
   "source": [
    "Quantidade de registros do segmento de dados df_prop4"
   ]
  },
  {
   "cell_type": "code",
   "execution_count": null,
   "id": "d530abaa-1254-4181-9f6a-704fe5f4c14e",
   "metadata": {},
   "outputs": [],
   "source": [
    "print(df_prop4.shape)"
   ]
  },
  {
   "cell_type": "markdown",
   "id": "5e6dd104-554a-4e70-9840-46e1c16423ce",
   "metadata": {},
   "source": [
    "Observando a quantidade de propriedades por bairro"
   ]
  },
  {
   "cell_type": "code",
   "execution_count": null,
   "id": "daaa1dec-4616-4bbd-bd15-8d3edbcc9289",
   "metadata": {},
   "outputs": [],
   "source": [
    "df_prop4.value_counts('place_name', ascending=False).head(10)"
   ]
  },
  {
   "cell_type": "markdown",
   "id": "7e905668-087a-4d05-b43a-637bc012fef2",
   "metadata": {},
   "source": [
    "Observando a quantidade de linhas e colunas do dataframe"
   ]
  },
  {
   "cell_type": "code",
   "execution_count": null,
   "id": "a8a92bb1-2f2f-4f61-a769-d3e22e1dbc6f",
   "metadata": {},
   "outputs": [],
   "source": [
    "df_prop4.shape"
   ]
  },
  {
   "cell_type": "markdown",
   "id": "19e2608d-ea11-456f-ae68-060980f46d94",
   "metadata": {},
   "source": [
    "Criação de uma nova coluna com a quantidade de propriedades por bairro"
   ]
  },
  {
   "cell_type": "code",
   "execution_count": null,
   "id": "07d6e00f-1d52-47da-bd46-10b0cb2470c8",
   "metadata": {},
   "outputs": [],
   "source": [
    "df_prop4['count_place2'] = df_prop4.groupby('place_name')['place_name'].transform('count')"
   ]
  },
  {
   "cell_type": "code",
   "execution_count": null,
   "id": "efcddb54-bd3e-4310-b515-55e95643c8e1",
   "metadata": {},
   "outputs": [],
   "source": [
    "print('Quantidade de linhas e colunas: ', df_prop4.shape)"
   ]
  },
  {
   "cell_type": "markdown",
   "id": "8b636c68-e896-40ba-87c3-dff05b814da1",
   "metadata": {},
   "source": [
    "Observando quais os bairros do dataframe"
   ]
  },
  {
   "cell_type": "code",
   "execution_count": 13,
   "id": "52bc4698-75b8-4ed3-a7e3-0f22f6c3b5ce",
   "metadata": {},
   "outputs": [
    {
     "ename": "NameError",
     "evalue": "name 'df_prop4' is not defined",
     "output_type": "error",
     "traceback": [
      "\u001b[1;31m---------------------------------------------------------------------------\u001b[0m",
      "\u001b[1;31mNameError\u001b[0m                                 Traceback (most recent call last)",
      "Input \u001b[1;32mIn [13]\u001b[0m, in \u001b[0;36m<cell line: 1>\u001b[1;34m()\u001b[0m\n\u001b[1;32m----> 1\u001b[0m \u001b[43mdf_prop4\u001b[49m\u001b[38;5;241m.\u001b[39mvalue_counts(\u001b[38;5;124m'\u001b[39m\u001b[38;5;124mplace_name\u001b[39m\u001b[38;5;124m'\u001b[39m)\u001b[38;5;241m.\u001b[39mhead(\u001b[38;5;241m15\u001b[39m)\n",
      "\u001b[1;31mNameError\u001b[0m: name 'df_prop4' is not defined"
     ]
    }
   ],
   "source": [
    "df_prop4.value_counts('place_name').head(15)"
   ]
  },
  {
   "cell_type": "markdown",
   "id": "b4aa5b9a-e0f5-43b3-9d28-a2e899e7e8c5",
   "metadata": {},
   "source": [
    "Criaçãode uma máscara para segmentar por bairros com mais de 200 propriedades"
   ]
  },
  {
   "cell_type": "code",
   "execution_count": null,
   "id": "f4d8aeeb-deab-4302-907f-1f7fc77e0fc2",
   "metadata": {},
   "outputs": [],
   "source": [
    "mask_count_place2 = df_prop4.count_place2 >= 900\n",
    "df_prop4 = df_prop4.loc[mask_count_place2]"
   ]
  },
  {
   "cell_type": "code",
   "execution_count": null,
   "id": "962b9c7d-06ff-442e-b254-f4eafbc17f85",
   "metadata": {},
   "outputs": [],
   "source": [
    "df_prop4.value_counts('place_name')"
   ]
  },
  {
   "cell_type": "code",
   "execution_count": null,
   "id": "713b4a45-9649-41b0-850a-52a204b02a0c",
   "metadata": {},
   "outputs": [],
   "source": [
    "print('Quantidade de linhas e colunas: ', df_prop4.shape)"
   ]
  },
  {
   "cell_type": "markdown",
   "id": "00d937ee-e275-4dd2-bd09-2a872c1ea44f",
   "metadata": {},
   "source": [
    "Observando a correlação entre as features"
   ]
  },
  {
   "cell_type": "code",
   "execution_count": null,
   "id": "bc626d63-bdb9-4b80-b38c-de4616453948",
   "metadata": {},
   "outputs": [],
   "source": [
    "sns.heatmap(df_prop4.corr(), \n",
    "            vmin = -1, \n",
    "            vmax = 1, \n",
    "            center = 0, \n",
    "            cmap = \"YlGnBu\"\n",
    "           );"
   ]
  },
  {
   "cell_type": "code",
   "execution_count": null,
   "id": "57992803-a404-4881-8baa-dc8315150c01",
   "metadata": {},
   "outputs": [],
   "source": [
    "sns.set(style = \"darkgrid\")\n",
    "sns.scatterplot(x = \"total_m2\", y = \"price_m2\", hue = df_prop4.place_name.tolist(), data = df_prop4)\n",
    "plt.show()"
   ]
  },
  {
   "cell_type": "markdown",
   "id": "8507545f-564f-4bec-876b-672612467c32",
   "metadata": {},
   "source": [
    "# Normalização dos dados"
   ]
  },
  {
   "cell_type": "code",
   "execution_count": null,
   "id": "faf6ad06-29d4-48c0-9b3a-0217c114c1ef",
   "metadata": {},
   "outputs": [],
   "source": [
    "print(df_prop4.shape)\n",
    "df_prop4.head(5)"
   ]
  },
  {
   "cell_type": "markdown",
   "id": "b878dfad-812c-453d-9657-3b7cc520d70a",
   "metadata": {},
   "source": [
    "Normalização das colunas price_m2"
   ]
  },
  {
   "cell_type": "code",
   "execution_count": null,
   "id": "77f9b0d0-6bc7-41bc-921d-55c6170318ae",
   "metadata": {},
   "outputs": [],
   "source": [
    "xs = df_prop4[\"total_m2\"]\n",
    "ys = df_prop4[\"price_usd\"]\n",
    "\n",
    "plt.scatter(xs, ys)\n",
    "plt.xlabel(\"total_m2\")\n",
    "plt.ylabel(\"price_m2\")\n",
    "plt.show()"
   ]
  },
  {
   "cell_type": "markdown",
   "id": "84e386a2-fa84-48a4-8bec-5e7f9c1808af",
   "metadata": {},
   "source": [
    "Observando os dados normalizados com o scikit-learn"
   ]
  },
  {
   "cell_type": "code",
   "execution_count": null,
   "id": "60aab775-ab89-4aef-864d-4a7d689327e1",
   "metadata": {},
   "outputs": [],
   "source": [
    "from sklearn import preprocessing\n",
    "\n",
    "xs = preprocessing.scale(df_prop4[\"total_m2\"])\n",
    "ys = preprocessing.scale(df_prop4[\"price_usd\"])\n",
    "\n",
    "plt.scatter(xs, ys, color = 'r')\n",
    "plt.xlabel(\"total_m2 standardized\")\n",
    "plt.ylabel(\"price_m2 standardized\")\n",
    "plt.show()"
   ]
  },
  {
   "cell_type": "code",
   "execution_count": null,
   "id": "589a4f75-1d68-4d68-8145-c9a02718d185",
   "metadata": {},
   "outputs": [],
   "source": [
    "plt.figure(figsize = (12, 4))\n",
    "ax1 = plt.subplot(121)\n",
    "ax1.set_title(\"Variable escalada Min-Max\")\n",
    "ax1.hist(ys, bins = 30);\n",
    "\n",
    "ax2 = plt.subplot(122)\n",
    "ax2.set_title(\"Variable sin reescalar\")\n",
    "ax2.hist(df_prop4[\"price_usd\"], bins = 30);"
   ]
  },
  {
   "cell_type": "markdown",
   "id": "8653f423-161b-48ff-acfc-46465497d0d4",
   "metadata": {},
   "source": [
    "# Criação de um modelo de clustering não supervisionado a fim de  descobrir padrões ou estruturas subjacentes nas informações que nos permitam ter insights relevantes entre o total m2 e o preço m2"
   ]
  },
  {
   "cell_type": "code",
   "execution_count": 14,
   "id": "931634a8-8074-442d-aceb-2b835bfa58bc",
   "metadata": {},
   "outputs": [
    {
     "ename": "NameError",
     "evalue": "name 'df_prop4' is not defined",
     "output_type": "error",
     "traceback": [
      "\u001b[1;31m---------------------------------------------------------------------------\u001b[0m",
      "\u001b[1;31mNameError\u001b[0m                                 Traceback (most recent call last)",
      "Input \u001b[1;32mIn [14]\u001b[0m, in \u001b[0;36m<cell line: 1>\u001b[1;34m()\u001b[0m\n\u001b[1;32m----> 1\u001b[0m df_prop4_cluster1 \u001b[38;5;241m=\u001b[39m \u001b[43mdf_prop4\u001b[49m\u001b[38;5;241m.\u001b[39mloc[:,[\u001b[38;5;124m'\u001b[39m\u001b[38;5;124mprice_usd\u001b[39m\u001b[38;5;124m'\u001b[39m,\u001b[38;5;124m'\u001b[39m\u001b[38;5;124mtotal_m2\u001b[39m\u001b[38;5;124m'\u001b[39m]]\n",
      "\u001b[1;31mNameError\u001b[0m: name 'df_prop4' is not defined"
     ]
    }
   ],
   "source": [
    "df_prop4_cluster1 = df_prop4.loc[:,['price_usd','total_m2']]"
   ]
  },
  {
   "cell_type": "code",
   "execution_count": null,
   "id": "9e6e7d86-ffd6-4000-93ff-039ee26a8086",
   "metadata": {},
   "outputs": [],
   "source": [
    "from sklearn.cluster import KMeans"
   ]
  },
  {
   "cell_type": "code",
   "execution_count": null,
   "id": "0e6bc142-82ea-4f54-bfa6-3c6a54158efe",
   "metadata": {},
   "outputs": [],
   "source": [
    "kmeans = KMeans(n_clusters = 4)"
   ]
  },
  {
   "cell_type": "code",
   "execution_count": null,
   "id": "a7559400-b53f-489c-994e-c4837b5ccd80",
   "metadata": {},
   "outputs": [],
   "source": [
    "from sklearn.preprocessing import StandardScaler\n",
    "scaler = StandardScaler()\n",
    "X = df_prop4_cluster1\n",
    "X_scaled = scaler.fit_transform(X) # X_scaled são os dados transformados"
   ]
  },
  {
   "cell_type": "code",
   "execution_count": null,
   "id": "fa34056f-423d-473e-be20-fd253747973c",
   "metadata": {},
   "outputs": [],
   "source": [
    "kmeans.fit(X_scaled)"
   ]
  },
  {
   "cell_type": "code",
   "execution_count": null,
   "id": "a825d8fd-7663-4458-b7c2-3607a4c9313a",
   "metadata": {},
   "outputs": [],
   "source": [
    "labels = kmeans.labels_\n",
    "centroids = kmeans.cluster_centers_"
   ]
  },
  {
   "cell_type": "code",
   "execution_count": null,
   "id": "111af0ac-1d58-4e1d-b4bd-b8e8fa40d31a",
   "metadata": {},
   "outputs": [],
   "source": [
    "plt.figure(figsize = (8,5))\n",
    "sns.scatterplot(x = X_scaled[ : , 0 ], y = X_scaled[ : , 1 ], hue = labels, legend = 'full');\n",
    "\n",
    "plt.xlabel('total_m2',fontsize = 15); plt.ylabel('price_m2', fontsize = 15);\n",
    "plt.scatter(centroids[ : , 0 ], centroids[ : , 1 ], marker = 'x', s = 50, color = 'r');"
   ]
  },
  {
   "cell_type": "markdown",
   "id": "50f75949-05b1-46aa-aeb8-4bcdbe540c3c",
   "metadata": {},
   "source": [
    "# MODELO 1: REGRESSÃO LINEAR SIMPLES"
   ]
  },
  {
   "cell_type": "markdown",
   "id": "0a8d3070-4709-4b25-965c-90728d9cc517",
   "metadata": {},
   "source": [
    "Feature: total_m2\n",
    "Target: price_m2"
   ]
  },
  {
   "cell_type": "code",
   "execution_count": null,
   "id": "4120d237-0915-4dca-beaf-ad8ec0cc7403",
   "metadata": {},
   "outputs": [],
   "source": [
    "import seaborn as sns\n",
    "import matplotlib.pyplot as plt\n",
    "%matplotlib inline\n",
    "\n",
    "plt.rcParams['figure.figsize'] = (8, 6)\n",
    "plt.rcParams['font.size'] = 16"
   ]
  },
  {
   "cell_type": "code",
   "execution_count": null,
   "id": "88d74f13-2403-4f62-8e6a-5b2027812610",
   "metadata": {},
   "outputs": [],
   "source": [
    "df_prop4.head(5)"
   ]
  },
  {
   "cell_type": "code",
   "execution_count": null,
   "id": "411c9403-79eb-41ae-8438-233b2eef1ec8",
   "metadata": {},
   "outputs": [],
   "source": [
    "type(df_prop4)"
   ]
  },
  {
   "cell_type": "markdown",
   "id": "f5504fef-846e-41a6-9e61-8d7026d59fb4",
   "metadata": {},
   "source": [
    "Passando o modelo de geodataframe para dataframe"
   ]
  },
  {
   "cell_type": "code",
   "execution_count": null,
   "id": "4cef54f6-026d-4ed2-9e89-170d70e6ed3f",
   "metadata": {},
   "outputs": [],
   "source": [
    "df_prop4 = pd.DataFrame(df_prop4)"
   ]
  },
  {
   "cell_type": "code",
   "execution_count": null,
   "id": "758c6fd8-68af-4a8e-9341-49bf221c9349",
   "metadata": {},
   "outputs": [],
   "source": [
    "type(df_prop4)"
   ]
  },
  {
   "cell_type": "markdown",
   "id": "48332a70-17e6-4a08-9a17-3ba5f6728f11",
   "metadata": {},
   "source": [
    "Observando a correlação entre price_m2 e total_m2"
   ]
  },
  {
   "cell_type": "code",
   "execution_count": null,
   "id": "c9038112-58fd-46fe-8b9c-4379c62042b4",
   "metadata": {},
   "outputs": [],
   "source": [
    "df_prop4.plot(kind = 'scatter', \n",
    "           x = 'total_m2', \n",
    "           y = 'price_usd', \n",
    "           alpha = 0.2\n",
    "          );"
   ]
  },
  {
   "cell_type": "code",
   "execution_count": null,
   "id": "5ae9ca39-0410-4563-8a6c-68b7f389b59e",
   "metadata": {},
   "outputs": [],
   "source": [
    "sns.lmplot(x = 'total_m2', \n",
    "           y = 'price_usd', \n",
    "           data = df_prop4, \n",
    "           aspect = 1.45,\n",
    "           scatter_kws = {'alpha': 0.2}\n",
    "          );"
   ]
  },
  {
   "cell_type": "markdown",
   "id": "1709f27a-f749-48ec-a0f3-f33fbbae079a",
   "metadata": {},
   "source": [
    "# NOVA Construindo um modelo de Regressão Linear Simples com price_usd e total_m2"
   ]
  },
  {
   "cell_type": "code",
   "execution_count": 15,
   "id": "a31f80cf-c4ff-4788-b63e-2f03777e684f",
   "metadata": {},
   "outputs": [],
   "source": [
    "from sklearn.linear_model import LinearRegression"
   ]
  },
  {
   "cell_type": "code",
   "execution_count": 16,
   "id": "1ca8b71e-eda4-4544-9123-13081f43e7e1",
   "metadata": {},
   "outputs": [
    {
     "data": {
      "text/plain": [
       "LinearRegression()"
      ]
     },
     "execution_count": 16,
     "metadata": {},
     "output_type": "execute_result"
    }
   ],
   "source": [
    "model = LinearRegression(fit_intercept = True)\n",
    "model"
   ]
  },
  {
   "cell_type": "markdown",
   "id": "b32f6e78-ad00-4148-baa4-d7247381ad95",
   "metadata": {},
   "source": [
    "Criação de uma matriz de `features` e o vetor `target`, que usaremos para ajustar nosso modelo de regressão linear simples."
   ]
  },
  {
   "cell_type": "code",
   "execution_count": 17,
   "id": "97290fee-8160-4007-a208-98b19287058c",
   "metadata": {},
   "outputs": [
    {
     "ename": "NameError",
     "evalue": "name 'df_prop4' is not defined",
     "output_type": "error",
     "traceback": [
      "\u001b[1;31m---------------------------------------------------------------------------\u001b[0m",
      "\u001b[1;31mNameError\u001b[0m                                 Traceback (most recent call last)",
      "Input \u001b[1;32mIn [17]\u001b[0m, in \u001b[0;36m<cell line: 3>\u001b[1;34m()\u001b[0m\n\u001b[0;32m      1\u001b[0m \u001b[38;5;66;03m# Criamos X e y\u001b[39;00m\n\u001b[0;32m      2\u001b[0m feature_cols \u001b[38;5;241m=\u001b[39m [\u001b[38;5;124m'\u001b[39m\u001b[38;5;124mtotal_m2\u001b[39m\u001b[38;5;124m'\u001b[39m]\n\u001b[1;32m----> 3\u001b[0m X \u001b[38;5;241m=\u001b[39m \u001b[43mdf_prop4\u001b[49m[feature_cols]\n\u001b[0;32m      4\u001b[0m y \u001b[38;5;241m=\u001b[39m df_prop4\u001b[38;5;241m.\u001b[39mprice_usd\n\u001b[0;32m      6\u001b[0m \u001b[38;5;66;03m# Checamos a forma e o tipo de cada um\u001b[39;00m\n",
      "\u001b[1;31mNameError\u001b[0m: name 'df_prop4' is not defined"
     ]
    }
   ],
   "source": [
    "# Criamos X e y\n",
    "feature_cols = ['total_m2']\n",
    "X = df_prop4[feature_cols]\n",
    "y = df_prop4.price_usd\n",
    "\n",
    "# Checamos a forma e o tipo de cada um\n",
    "print(\"Shape X:\", X.shape)\n",
    "print(\"Type X:\", type(X))\n",
    "print(\"Shape y:\", y.shape)\n",
    "print(\"Type y:\", type(y))"
   ]
  },
  {
   "cell_type": "markdown",
   "id": "ec321390-9aaa-46de-b7d2-1f326cf462d1",
   "metadata": {},
   "source": [
    "Separando Conjunto de treino e teste"
   ]
  },
  {
   "cell_type": "code",
   "execution_count": null,
   "id": "2bd3dfc2-0a76-4f8e-af5b-8be6d45df9d6",
   "metadata": {},
   "outputs": [],
   "source": [
    "from sklearn.model_selection import train_test_split\n",
    "Xtrain, Xtest, ytrain, ytest = train_test_split(X, y, random_state = 1)"
   ]
  },
  {
   "cell_type": "markdown",
   "id": "87ead63f-abfb-4827-9070-b6bfcf4adf2f",
   "metadata": {},
   "source": [
    "Ajuste do modelo aos dados de treino"
   ]
  },
  {
   "cell_type": "code",
   "execution_count": null,
   "id": "902ac56e-c1cb-4303-8df9-950eef8f2b62",
   "metadata": {},
   "outputs": [],
   "source": [
    "model.fit(Xtrain, ytrain)"
   ]
  },
  {
   "cell_type": "markdown",
   "id": "ad09529d-9d66-4348-8699-c8aedd1a027c",
   "metadata": {},
   "source": [
    "verificando os valores de que o modelo aprendeu inspecionando os atributos `intercept_` e` coef_`, respectivamente:"
   ]
  },
  {
   "cell_type": "code",
   "execution_count": null,
   "id": "afd48455-acf1-4a45-be5b-5245fbd5808b",
   "metadata": {},
   "outputs": [],
   "source": [
    "model.coef_"
   ]
  },
  {
   "cell_type": "code",
   "execution_count": null,
   "id": "75570705-5d09-44ba-ad58-7b2c54e8d66a",
   "metadata": {},
   "outputs": [],
   "source": [
    "model.intercept_"
   ]
  },
  {
   "cell_type": "markdown",
   "id": "394e2e43-513b-44a1-9bc3-f0f0029e4e23",
   "metadata": {},
   "source": [
    "Prever rótulos para dados desconhecidos usando o metodo predict"
   ]
  },
  {
   "cell_type": "code",
   "execution_count": null,
   "id": "b723bf6e-4d59-4545-a280-57ba33ca812f",
   "metadata": {},
   "outputs": [],
   "source": [
    "ypred = model.predict(Xtest)\n",
    "ypred"
   ]
  },
  {
   "cell_type": "markdown",
   "id": "1ef80d00-32e8-4211-ba93-7b4b1bec344f",
   "metadata": {},
   "source": [
    "Observando as métricas:"
   ]
  },
  {
   "cell_type": "code",
   "execution_count": null,
   "id": "70fd4a0a-a75d-473e-85c7-871d40933639",
   "metadata": {},
   "outputs": [],
   "source": [
    "from sklearn.metrics import mean_absolute_error, mean_squared_error, r2_score\n",
    "print ('MAE:', mean_absolute_error(ytest, ypred).round(2))\n",
    "print ('MSE:', mean_squared_error(ytest, ypred).round(2))\n",
    "print ('RMSE:', np.sqrt(mean_squared_error(ytest, ypred)).round(2))\n",
    "print ('R2:', r2_score(ytest, ypred).round(2))"
   ]
  },
  {
   "cell_type": "markdown",
   "id": "7d02cfeb-b51e-4fb1-8865-cfa4589a087b",
   "metadata": {},
   "source": [
    "Observações: As funções de perda poderiam ser minimizadas estão consideravelmente altas e o R2 está distante de 1"
   ]
  },
  {
   "cell_type": "markdown",
   "id": "1d1d3459",
   "metadata": {},
   "source": [
    "# Modelo de Regressão Linear Simples com price_m2 x Bairros\n"
   ]
  },
  {
   "cell_type": "code",
   "execution_count": null,
   "id": "0b24b58e",
   "metadata": {},
   "outputs": [],
   "source": []
  },
  {
   "cell_type": "markdown",
   "id": "a383ac14-d4a1-479a-a96a-7fa0e956b541",
   "metadata": {},
   "source": [
    "# Adicionando novas features com dummy"
   ]
  },
  {
   "cell_type": "markdown",
   "id": "677d069a-191e-4376-9c4e-def4c64a2eb4",
   "metadata": {},
   "source": [
    "Removendo a coluna count_place2"
   ]
  },
  {
   "cell_type": "code",
   "execution_count": null,
   "id": "e876468f-779e-4221-85ba-8f8b6dc8d3e7",
   "metadata": {},
   "outputs": [],
   "source": [
    "df_prop4.head(2)"
   ]
  },
  {
   "cell_type": "code",
   "execution_count": null,
   "id": "0c9f6a8e-3b0b-4bca-a543-eacf094bda27",
   "metadata": {},
   "outputs": [],
   "source": [
    "df_prop4 = df_prop4.loc[:,['place_name','property_type','price_m2','avg_price_m2','total_m2','price_usd','dist_obelisk']]"
   ]
  },
  {
   "cell_type": "markdown",
   "id": "c70a3fc5-f33b-479c-ba7c-abd9f7393c40",
   "metadata": {},
   "source": [
    "Adicionando a a coluna dummy para tipo de propriedade"
   ]
  },
  {
   "cell_type": "code",
   "execution_count": null,
   "id": "9e6f77fe-8fce-4a6e-9988-3347bd5c33a4",
   "metadata": {},
   "outputs": [],
   "source": [
    "df_prop4_dummy = pd.get_dummies(df_prop4, columns=['property_type'], prefix=\"type\", prefix_sep=\"_\", drop_first=True)"
   ]
  },
  {
   "cell_type": "code",
   "execution_count": null,
   "id": "ef2d7df8-290f-46a4-8ebb-7438d6f29cfd",
   "metadata": {},
   "outputs": [],
   "source": [
    "df_prop4_dummy.head(5)"
   ]
  },
  {
   "cell_type": "markdown",
   "id": "0c8d6241-0ba5-41fe-87fc-7bc06dfe14d8",
   "metadata": {},
   "source": [
    "Adicionando a a coluna dummy para place_name"
   ]
  },
  {
   "cell_type": "code",
   "execution_count": null,
   "id": "1d949840-d38d-4370-a54c-f2a5eca9624b",
   "metadata": {},
   "outputs": [],
   "source": [
    "df_prop4_dummy = pd.get_dummies(df_prop4_dummy, columns=['place_name'], prefix=\"place\", prefix_sep=\"_\", drop_first=True)"
   ]
  },
  {
   "cell_type": "code",
   "execution_count": null,
   "id": "f030a0c1-5d9d-42b6-bf3b-25a14174072b",
   "metadata": {},
   "outputs": [],
   "source": [
    "df_prop4_dummy.head(5)"
   ]
  },
  {
   "cell_type": "code",
   "execution_count": null,
   "id": "50444c15-e1ca-472b-a054-1a3978d53bae",
   "metadata": {},
   "outputs": [],
   "source": [
    "df_prop4_dummy.shape"
   ]
  },
  {
   "cell_type": "code",
   "execution_count": null,
   "id": "d5c132d6-b6d6-4606-8297-fd2ceaea27b1",
   "metadata": {},
   "outputs": [],
   "source": [
    "df_prop4_dummy.head(5)"
   ]
  },
  {
   "cell_type": "markdown",
   "id": "4bb6a376-7ef4-4b69-9c4a-e561e0912d70",
   "metadata": {},
   "source": [
    "Criamos uma nova lista de features com as variáveis dummy"
   ]
  },
  {
   "cell_type": "code",
   "execution_count": null,
   "id": "6359981a-ef8b-4354-a18d-20bf45401f25",
   "metadata": {},
   "outputs": [],
   "source": [
    "sns.heatmap(df_prop4_dummy.corr(), \n",
    "            vmin = -1, \n",
    "            vmax = 1, \n",
    "            center = 0, \n",
    "            cmap = \"YlGnBu\"\n",
    "           );"
   ]
  },
  {
   "cell_type": "code",
   "execution_count": null,
   "id": "fd86b1f0-b63a-4c66-8819-57d57c0b63fa",
   "metadata": {},
   "outputs": [],
   "source": [
    "df_prop4_dummy.head(2)"
   ]
  },
  {
   "cell_type": "code",
   "execution_count": null,
   "id": "0c1fafd3-a1d8-4d59-849d-dbc8b3e1f2b1",
   "metadata": {},
   "outputs": [],
   "source": [
    "feature_cols = ['avg_price_m2','total_m2','price_m2','dist_obelisk','type_apartment','type_house','type_store','type_Caballito','type_Palermo']"
   ]
  },
  {
   "cell_type": "code",
   "execution_count": null,
   "id": "4e8f2a39-11bc-41f7-a4e2-39b33d539077",
   "metadata": {},
   "outputs": [],
   "source": [
    "# criamos novamente X and y\n",
    "X = df_prop4_dummy[feature_cols]\n",
    "y = df_prop4_dummy.price_usd\n",
    "\n",
    "# criamos o modelo e o ajustamos aos dados\n",
    "linreg = LinearRegression()\n",
    "linreg.fit(X, y)\n",
    "\n",
    "# Imprimimos os coeficientes\n",
    "print (linreg.intercept_)\n",
    "print (linreg.coef_)"
   ]
  },
  {
   "cell_type": "markdown",
   "id": "c33617c2-c85f-4d42-b20e-42950bf23b9c",
   "metadata": {},
   "source": [
    "Para observá-lo melhor olhamos o nome com o coeficiente"
   ]
  },
  {
   "cell_type": "code",
   "execution_count": null,
   "id": "0a91a811-4f2a-4f89-a90a-6e23cada3f87",
   "metadata": {},
   "outputs": [],
   "source": [
    "list(zip(feature_cols, linreg.coef_))"
   ]
  },
  {
   "cell_type": "markdown",
   "id": "7e15c457-409c-4801-a0f1-a57b49b3217c",
   "metadata": {},
   "source": [
    "Separando Conjunto de treino e teste"
   ]
  },
  {
   "cell_type": "code",
   "execution_count": null,
   "id": "251ada34-2016-4659-a3b1-4f3408c5489d",
   "metadata": {},
   "outputs": [],
   "source": [
    "from sklearn.model_selection import train_test_split\n",
    "Xtrain, Xtest, ytrain, ytest = train_test_split(X, y, random_state = 1)"
   ]
  },
  {
   "cell_type": "markdown",
   "id": "3dce7d8d-7258-438e-9fa8-31accc5e409b",
   "metadata": {},
   "source": [
    "Ajuste do modelo aos dados de treino"
   ]
  },
  {
   "cell_type": "code",
   "execution_count": null,
   "id": "db8c8dfa-78f1-454d-bcf1-aea55ccbb193",
   "metadata": {},
   "outputs": [],
   "source": [
    "model.fit(Xtrain, ytrain)"
   ]
  },
  {
   "cell_type": "code",
   "execution_count": null,
   "id": "70c41468-df90-40d1-8cf5-486401d2f132",
   "metadata": {},
   "outputs": [],
   "source": [
    "print('model:', model.score(X_all_test, y_all_test))"
   ]
  },
  {
   "cell_type": "markdown",
   "id": "22c86498-4470-46a1-b70d-82f6e77965e4",
   "metadata": {},
   "source": [
    "verificando os valores de que o modelo aprendeu inspecionando os atributos `intercept_` e` coef_`, respectivamente:"
   ]
  },
  {
   "cell_type": "code",
   "execution_count": null,
   "id": "7b08500c-7e61-4f72-ae26-b26424c189c0",
   "metadata": {},
   "outputs": [],
   "source": [
    "model.coef_"
   ]
  },
  {
   "cell_type": "code",
   "execution_count": null,
   "id": "fefb659d-0065-4fd7-b3f6-be6ef2163d8f",
   "metadata": {},
   "outputs": [],
   "source": [
    "model.intercept_"
   ]
  },
  {
   "cell_type": "markdown",
   "id": "1415fee5-822f-488a-8e7c-8d31524f2bb6",
   "metadata": {},
   "source": [
    "Prever rótulos para dados desconhecidos usando o metodo predict"
   ]
  },
  {
   "cell_type": "code",
   "execution_count": null,
   "id": "97a4fb28-6e0f-443a-a7eb-c5c2afff79aa",
   "metadata": {},
   "outputs": [],
   "source": [
    "ypred = model.predict(Xtest)\n",
    "ypred"
   ]
  },
  {
   "cell_type": "markdown",
   "id": "d5e3d135-9f69-4246-8a62-05b92e7b2116",
   "metadata": {},
   "source": [
    "Observando as métricas:"
   ]
  },
  {
   "cell_type": "code",
   "execution_count": null,
   "id": "9c069095-bbdd-40b4-a1e0-dce8a662b218",
   "metadata": {},
   "outputs": [],
   "source": [
    "from sklearn.metrics import mean_absolute_error, mean_squared_error, r2_score\n",
    "print (\"y_test sample: \", ytest.values[0: 10])\n",
    "print (\"y_pred sample: \", ypred[0: 10].astype(int))\n",
    "print ('MAE:', mean_absolute_error(ytest, ypred).round(2))\n",
    "print ('MSE:', mean_squared_error(ytest, ypred).round(2))\n",
    "print ('RMSE:', np.sqrt(mean_squared_error(ytest, ypred)).round(2))\n",
    "print ('R2:', r2_score(ytest, ypred).round(2))"
   ]
  },
  {
   "cell_type": "markdown",
   "id": "8a9f581d-44ff-47c5-96ea-677128f65738",
   "metadata": {},
   "source": [
    "Função para verificar os valores absolutos"
   ]
  },
  {
   "cell_type": "code",
   "execution_count": null,
   "id": "2d1599d7-41b3-4ff8-9ebf-c55c4c207dda",
   "metadata": {},
   "outputs": [],
   "source": [
    "def mape(y_test, pred):\n",
    "    y_test, pred = np.array(y_test), np.array(pred)\n",
    "    mape = np.mean(np.abs((y_test - pred) / y_test))\n",
    "    return mape"
   ]
  },
  {
   "cell_type": "code",
   "execution_count": null,
   "id": "e22b9b4a-451c-49de-a992-94e5c67bde8a",
   "metadata": {},
   "outputs": [],
   "source": [
    "print('MAPE:', mape(ytest, ypred))"
   ]
  },
  {
   "cell_type": "code",
   "execution_count": null,
   "id": "74c71fd4-1f9b-487d-b8d4-2e6297417ebd",
   "metadata": {},
   "outputs": [],
   "source": []
  },
  {
   "cell_type": "markdown",
   "id": "018e3e10-4e06-4ce1-86e9-29ad26aedb0e",
   "metadata": {},
   "source": [
    "Observamos acima que com as variáveis dummys o R2 subiu e os valores dos resíduos minimizaram"
   ]
  },
  {
   "cell_type": "markdown",
   "id": "380ccb01-de08-4463-8f7c-6bfde253ec2a",
   "metadata": {},
   "source": [
    "## Criação da função definida train_test_error() \n",
    "# a função aceita uma lista de recursos, faz a divisão entre treino e teste, reservando 25% das observações para teste e retorna o teste RMSE."
   ]
  },
  {
   "cell_type": "code",
   "execution_count": null,
   "id": "ede19296-e1ed-4ed7-950a-8f434ae51d6a",
   "metadata": {},
   "outputs": [],
   "source": [
    "from sklearn.model_selection import train_test_split"
   ]
  },
  {
   "cell_type": "code",
   "execution_count": null,
   "id": "b5f288c9-88f4-4880-bc19-961e1d08723a",
   "metadata": {},
   "outputs": [],
   "source": [
    "def train_test_error(feature_cols):\n",
    "    X = df_prop4_dummy[feature_cols]\n",
    "    y = df_prop4_dummy.price_usd\n",
    "\n",
    "    X_train, X_test, y_train, y_test = train_test_split(X, y, random_state = 1)\n",
    "    linreg = LinearRegression()\n",
    "    linreg.fit(X_train, y_train)\n",
    "    y_pred = linreg.predict(X_test)\n",
    "    y_testm, predm = np.array(y_test), np.array(y_pred)\n",
    "    mape = np.mean(np.abs((y_testm - predm) / y_testm))\n",
    "  \n",
    "    \n",
    "    print (feature_cols)\n",
    "    print (\"y_test sample: \", y_test.values[0: 10])\n",
    "    print (\"y_pred sample: \", y_pred[0: 10].astype(int))\n",
    "    print ('MAE:', mean_absolute_error(y_test, y_pred))\n",
    "    print ('MSE:', mean_squared_error(y_test, y_pred))\n",
    "    print ('RMSE:', np.sqrt(mean_squared_error(y_test, y_pred)))\n",
    "    print ('R2:', r2_score(y_test, y_pred))\n",
    "    print('MAPE:', mape)\n",
    "    print ()\n",
    "    return "
   ]
  },
  {
   "cell_type": "code",
   "execution_count": null,
   "id": "238f1ec6-8abc-493b-bdc7-5e11ac6b9f25",
   "metadata": {},
   "outputs": [],
   "source": [
    "train_test_error(['avg_price_m2','total_m2','price_m2','dist_obelisk','type_apartment','type_house','type_store','type_Caballito','type_Palermo'])"
   ]
  },
  {
   "cell_type": "code",
   "execution_count": null,
   "id": "04888aa9-cf21-4925-b3cc-98c750b42f88",
   "metadata": {},
   "outputs": [],
   "source": [
    "train_test_error(['avg_price_m2','total_m2','type_apartment','type_house','type_store','type_Caballito','type_Palermo'])"
   ]
  },
  {
   "cell_type": "code",
   "execution_count": null,
   "id": "fa661306-ef6c-404a-a722-4a7b88246893",
   "metadata": {},
   "outputs": [],
   "source": [
    "train_test_error(['total_m2','type_apartment','type_house','type_store','type_Caballito','type_Palermo'])"
   ]
  },
  {
   "cell_type": "markdown",
   "id": "972cfc20-a45d-4a3b-b01d-f9463aecef64",
   "metadata": {},
   "source": [
    "# PREMISSAS DE GAUSS MARKOUS."
   ]
  },
  {
   "cell_type": "code",
   "execution_count": null,
   "id": "64997cb8-d7bf-4449-ba11-d36bdf801841",
   "metadata": {},
   "outputs": [],
   "source": [
    "X = df_prop4_dummy[['avg_price_m2','total_m2','price_m2','dist_obelisk','type_apartment','type_house','type_store','type_Caballito','type_Palermo']]\n",
    "y = pd.Series(df_prop4_dummy.price_usd, \n",
    "              name = 'price_usd'\n",
    "             )\n"
   ]
  },
  {
   "cell_type": "code",
   "execution_count": null,
   "id": "60c3dc82-5fdc-42fd-a643-fcb9d2344c61",
   "metadata": {},
   "outputs": [],
   "source": [
    "import statsmodels.api as sm\n",
    "\n",
    "X_constant = sm.add_constant(X)\n",
    "lin_reg = sm.OLS(y,X_constant).fit()\n",
    "lin_reg.summary()"
   ]
  },
  {
   "cell_type": "markdown",
   "id": "4adea014-416a-4cc8-8397-b74fb09dde3a",
   "metadata": {},
   "source": [
    "Verificando a linearidade do modelo"
   ]
  },
  {
   "cell_type": "code",
   "execution_count": null,
   "id": "95cb067d-4988-4307-b9d9-833f07644faa",
   "metadata": {},
   "outputs": [],
   "source": [
    "%matplotlib inline\n",
    "#%config InlineBackend.figure_format ='retina'\n",
    "import seaborn as sns \n",
    "import matplotlib.pyplot as plt\n",
    "import statsmodels.stats.api as sms\n",
    "sns.set_style('darkgrid')\n",
    "sns.mpl.rcParams['figure.figsize'] = (15.0, 9.0)\n",
    "\n",
    "def linearity_test(model, y):\n",
    "    '''\n",
    "    função para visualizar e identificar suposições de linearidade sobre regressão linear\n",
    "    \n",
    "    Args:\n",
    "    * model - fitted OLS model from statsmodels\n",
    "    * y - observed values\n",
    "    '''\n",
    "    fitted_vals = model.predict()\n",
    "    resids = model.resid\n",
    "\n",
    "    fig, ax = plt.subplots(1,2)\n",
    "    \n",
    "    sns.regplot(x = fitted_vals, \n",
    "                y = y, \n",
    "                lowess = True, \n",
    "                ax = ax[0], \n",
    "                line_kws = {'color': 'red'}\n",
    "               )\n",
    "    ax[0].set_title('Observados vs. Valores Previstos', \n",
    "                    fontsize = 16\n",
    "                   )\n",
    "    ax[0].set(xlabel = 'Previstos', \n",
    "              ylabel = 'Observados')\n",
    "\n",
    "    sns.regplot(x = fitted_vals, \n",
    "                y = resids, \n",
    "                lowess = True, \n",
    "                ax = ax[1], \n",
    "                line_kws = {'color': 'red'}\n",
    "               )\n",
    "    ax[1].set_title('Residuos vs. Valores Previstos', \n",
    "                    fontsize = 16\n",
    "                   )\n",
    "    ax[1].set(xlabel = 'Previstos', \n",
    "              ylabel = 'Residuos'\n",
    "             )\n",
    "    \n",
    "linearity_test(lin_reg, y)    "
   ]
  },
  {
   "cell_type": "markdown",
   "id": "e6085e5c-4452-42a1-b075-93567c0b11f0",
   "metadata": {},
   "source": [
    "Para detectar a não linearidade, você pode inspecionar gráficos de valores observados versus valores previstos ou residuais versus valores previstos. O resultado desejado é que os pontos sejam distribuídos simetricamente em torno de uma linha diagonal no primeiro gráfico ou em torno de uma linha horizontal no último. Em ambos os casos, com uma variação aproximadamente constante.\n",
    "\n",
    "A observação de um padrão inclinado indica que o modelo comete erros sistemáticos cada vez que faz previsões incomumente grandes ou pequenas. Quando o modelo contém muitos recursos, a não linearidade também pode ser revelada por padrões sistemáticos nos gráficos dos resíduos em comparação com os recursos individuais.\n",
    "\n",
    "Observamos acima que a suposição de linearidade não é cumprida, "
   ]
  },
  {
   "cell_type": "markdown",
   "id": "5c8c0066-5c17-4a26-bd1b-06eee7907887",
   "metadata": {},
   "source": [
    "A expectativa ou média dos resíduos igual a zero"
   ]
  },
  {
   "cell_type": "code",
   "execution_count": null,
   "id": "c45b0e7f-15e4-41d1-87f1-c493cd5ca821",
   "metadata": {},
   "outputs": [],
   "source": [
    "lin_reg.resid.mean()"
   ]
  },
  {
   "cell_type": "markdown",
   "id": "c6ad721e-f2d8-4618-91a7-5216a079141a",
   "metadata": {},
   "source": [
    "Verificando a colinearidade entre as variáveis"
   ]
  },
  {
   "cell_type": "code",
   "execution_count": null,
   "id": "a70a0ab7-b52c-4d7f-a3a6-8ba4857594e7",
   "metadata": {},
   "outputs": [],
   "source": [
    "from statsmodels.stats.outliers_influence import variance_inflation_factor\n",
    "\n",
    "vif = [variance_inflation_factor(X_constant.values, i) for i in range(X_constant.shape[1])]\n",
    "pd.DataFrame({'vif': vif[1:]}, index=X.columns).T"
   ]
  },
  {
   "cell_type": "markdown",
   "id": "9aa4c37a-a1a3-46cd-9fd1-138e0beeb9f5",
   "metadata": {},
   "source": [
    "Para lidar com a multicolinearidade, precisamos remover iterativamente os recursos com valores altos de **VIF**. \n",
    "Uma regra geral para eliminação pode ser VIF maior que 10 (5 também é comum). \n",
    "Outra solução possível é usar o PCA para reduzir os recursos a um conjunto menor de componentes não correlacionados.\n",
    "Dica: também podemos visualizar a matriz de correlação de recursos para identificar dependências entre recursos.\n",
    "\n",
    "### Homocedasticidade (variância igual) dos resíduos\n",
    "Quando os resíduos não possuem variância constante (exibem heterocedasticidade), é difícil determinar o verdadeiro desvio padrão dos erros de previsão, geralmente resultando em intervalos de confiança muito amplos/estreitos. \n",
    "Por exemplo, se a variância dos resíduos aumentar ao longo do tempo, os intervalos de confiança para as previsões fora da amostra não serão realistas. \n",
    "Outro efeito da heterocedasticidade também pode ser colocar muito peso em um subconjunto de dados ao estimar os coeficientes, o subconjunto no qual a variância do erro foi maior.\n",
    "Para investigar se os resíduos têm variância igual, podemos olhar para um gráfico dos resíduos (ou resíduos padronizados) contra os valores previstos (ajustados) como fizemos na figura anterior ao verificar a linearidade do modelo. \n",
    "O que deve nos alarmar é o caso em que os resíduos crescem em função do valor previsto ou em função do tempo (no caso de séries temporais).\n",
    "Também podemos usar dois testes estatísticos: Breusch-Pagan e Goldfeld-Quandt. \n",
    "Em ambos, a hipótese nula assume homocedasticidade, e um valor de p abaixo de um determinado nível (como 0,05) indica que devemos rejeitar o nulo em favor da heterocedasticidade."
   ]
  },
  {
   "cell_type": "code",
   "execution_count": null,
   "id": "a4ecc952-fd71-422e-8687-5163814cf73c",
   "metadata": {},
   "outputs": [],
   "source": [
    "%matplotlib inline\n",
    "%config InlineBackend.figure_format ='retina'\n",
    "import seaborn as sns \n",
    "import matplotlib.pyplot as plt\n",
    "import statsmodels.stats.api as sms\n",
    "sns.set_style('darkgrid')\n",
    "sns.mpl.rcParams['figure.figsize'] = (15.0, 9.0)\n",
    "\n",
    "def homoscedasticity_test(model):\n",
    "    '''\n",
    "    Function for testing the homoscedasticity of residuals in a linear regression model.\n",
    "    It plots residuals and standardized residuals vs. fitted values and runs Breusch-Pagan and Goldfeld-Quandt tests.\n",
    "    \n",
    "    Args:\n",
    "    * model - fitted OLS model from statsmodels\n",
    "    '''\n",
    "    import numpy as np\n",
    "    fitted_vals = model.predict()\n",
    "    resids = model.resid\n",
    "    resids_standardized = model.get_influence().resid_studentized_internal\n",
    "\n",
    "    fig, ax = plt.subplots(1,2)\n",
    "\n",
    "    sns.regplot(x=fitted_vals, y=resids, lowess=True, ax=ax[0], line_kws={'color': 'red'})\n",
    "    ax[0].set_title('Residuals vs Fitted', fontsize=16)\n",
    "    ax[0].set(xlabel='Fitted Values', ylabel='Residuals')\n",
    "\n",
    "    sns.regplot(x=fitted_vals, y=np.sqrt(np.abs(resids_standardized)), lowess=True, ax=ax[1], line_kws={'color': 'red'})\n",
    "    ax[1].set_title('Scale-Location', fontsize=16)\n",
    "    ax[1].set(xlabel='Fitted Values', ylabel='sqrt(abs(Residuals))')\n",
    "\n",
    "    bp_test = pd.DataFrame(sms.het_breuschpagan(resids, model.model.exog), \n",
    "                           columns=['value'],\n",
    "                           index=['Lagrange multiplier statistic', 'p-value', 'f-value', 'f p-value'])\n",
    "\n",
    "    gq_test = pd.DataFrame(sms.het_goldfeldquandt(resids, model.model.exog)[:-1],\n",
    "                           columns=['value'],\n",
    "                           index=['F statistic', 'p-value'])\n",
    "\n",
    "    print('\\n Breusch-Pagan test ----')\n",
    "    print(bp_test)\n",
    "    print('\\n Goldfeld-Quandt test ----')\n",
    "    print(gq_test)\n",
    "    print('\\n Residuals plots ----')\n",
    "\n",
    "homoscedasticity_test(lin_reg)"
   ]
  },
  {
   "cell_type": "markdown",
   "id": "b856d77a-7619-4eb6-82b4-faf0f02546c6",
   "metadata": {},
   "source": [
    "O gráfico mostra que este modelo não atende a suposição de homoscedancy.\n",
    "para contornar esse inconveniente, você pode aplicar alguma função logarítmica nas variáveis ​​preditoras ou na variável alvo."
   ]
  },
  {
   "cell_type": "markdown",
   "id": "ebcdcd8f-564e-4be7-82ca-9f4204eb964b",
   "metadata": {},
   "source": [
    "Autocorrelação"
   ]
  },
  {
   "cell_type": "code",
   "execution_count": null,
   "id": "83b0c9cc-38ad-4246-a93e-ca3c59a6f23c",
   "metadata": {},
   "outputs": [],
   "source": [
    "import statsmodels.tsa.api as smt\n",
    "\n",
    "acf = smt.graphics.plot_acf(lin_reg.resid, lags=40 , alpha=0.05)\n",
    "#acf.show();"
   ]
  },
  {
   "cell_type": "markdown",
   "id": "b5924bbb-5822-46a6-9456-832b7bfa496f",
   "metadata": {},
   "source": [
    "Normalidade dos resíduos"
   ]
  },
  {
   "cell_type": "code",
   "execution_count": null,
   "id": "6c39eb30-2c8e-44be-813a-e573fa512997",
   "metadata": {},
   "outputs": [],
   "source": [
    "from scipy import stats\n",
    "\n",
    "def normality_of_residuals_test(model):\n",
    "    '''\n",
    "    Function for drawing the normal QQ-plot of the residuals and running 4 statistical tests to \n",
    "    investigate the normality of residuals.\n",
    "    \n",
    "    Arg:\n",
    "    * model - fitted OLS models from statsmodels\n",
    "    '''\n",
    "    sm.ProbPlot(model.resid).qqplot(line='s');\n",
    "    plt.title('Q-Q plot');\n",
    "\n",
    "    jb = stats.jarque_bera(model.resid)\n",
    "    sw = stats.shapiro(model.resid)\n",
    "    ad = stats.anderson(model.resid, dist='norm')\n",
    "    ks = stats.kstest(model.resid, 'norm')\n",
    "    \n",
    "    print(f'Jarque-Bera test ---- statistic: {jb[0]:.4f}, p-value: {jb[1]}')\n",
    "    print(f'Shapiro-Wilk test ---- statistic: {sw[0]:.4f}, p-value: {sw[1]:.4f}')\n",
    "    print(f'Kolmogorov-Smirnov test ---- statistic: {ks.statistic:.4f}, p-value: {ks.pvalue:.4f}')\n",
    "    print(f'Anderson-Darling test ---- statistic: {ad.statistic:.4f}, 5% critical value: {ad.critical_values[2]:.4f}')\n",
    "    print('If the returned AD statistic is larger than the critical value, then for the 5% significance level, the null hypothesis that the data come from the Normal distribution should be rejected. ')\n",
    "    \n",
    "normality_of_residuals_test(lin_reg)"
   ]
  },
  {
   "cell_type": "markdown",
   "id": "0a623921-83e2-4d50-8547-98930865abaa",
   "metadata": {},
   "source": [
    "Dos resultados acima referidos, podemos inferir que os resíduos não seguem a distribuição gaussiana a partir da forma da parcela QQ, bem como rejeitar a hipótese nula em todos os testes estatísticos. \n",
    "\n",
    "#### Possíveis soluções:\n",
    "* transformação não linear da variável/característica alvo\n",
    "* remover/tratar possíveis aberrantes\n",
    "* Pode acontecer que existam dois ou mais subconjuntos de dados com propriedades estatísticas diferentes, caso em que poderiam ser considerados como modelos separados."
   ]
  },
  {
   "cell_type": "markdown",
   "id": "28f63d34-9240-4517-ad65-ecf99036d9d3",
   "metadata": {},
   "source": [
    "## REGULARIZAÇÃO"
   ]
  },
  {
   "cell_type": "code",
   "execution_count": null,
   "id": "72010f8b-0be8-4c5f-808c-14b517217120",
   "metadata": {},
   "outputs": [],
   "source": [
    "from sklearn.model_selection import train_test_split\n",
    "from sklearn.linear_model import LinearRegression"
   ]
  },
  {
   "cell_type": "code",
   "execution_count": null,
   "id": "1698cca2-149f-4c69-abb6-db223dd28b26",
   "metadata": {},
   "outputs": [],
   "source": [
    "feature_cols = ['avg_price_m2','total_m2','price_m2','dist_obelisk','type_apartment','type_house','type_store','type_Caballito','type_Palermo']"
   ]
  },
  {
   "cell_type": "code",
   "execution_count": null,
   "id": "335e60d0-76ef-43a0-8df1-f8331ee47c6a",
   "metadata": {},
   "outputs": [],
   "source": [
    "X = df_prop4_dummy[feature_cols]\n",
    "y = df_prop4_dummy.price_usd"
   ]
  },
  {
   "cell_type": "code",
   "execution_count": null,
   "id": "2ba8afde-2516-4a35-898f-a32ac36de610",
   "metadata": {},
   "outputs": [],
   "source": [
    "Xtrain, Xtest, ytrain, ytest = train_test_split(X, y, random_state = 1)"
   ]
  },
  {
   "cell_type": "markdown",
   "id": "92472166-f9e1-40fd-b5e0-9566b59e46eb",
   "metadata": {},
   "source": [
    "# Modelo Regresão Linear"
   ]
  },
  {
   "cell_type": "code",
   "execution_count": null,
   "id": "ff71eb6e-9b18-4942-a24e-b066aa1bbba8",
   "metadata": {},
   "outputs": [],
   "source": [
    "model = LinearRegression(fit_intercept = True)\n",
    "model_1 = model.fit(Xtrain, ytrain)\n",
    "print('Score model_1:', model_1.score(Xtest, ytest))"
   ]
  },
  {
   "cell_type": "markdown",
   "id": "578b1cb3-c6dd-4b07-9f46-50bc459a30cb",
   "metadata": {},
   "source": [
    "# Regularização modelo com Ridge CV"
   ]
  },
  {
   "cell_type": "code",
   "execution_count": null,
   "id": "f0e62ec7-99bf-4aed-bcb8-d5f5a426ee05",
   "metadata": {},
   "outputs": [],
   "source": [
    "lm_ridge = linear_model.RidgeCV(alphas = [0.1, 1, 10], \n",
    "                                normalize = True\n",
    "                               ) \n",
    "\n",
    "model_2 = lm_ridge.fit(Xtrain, ytrain)\n",
    "\n",
    "print('Score model_2:', model_2.score(Xtest, ytest))"
   ]
  },
  {
   "cell_type": "code",
   "execution_count": null,
   "id": "4e22a93a-6812-43cf-a4ca-b0b8348d4a8a",
   "metadata": {},
   "outputs": [],
   "source": [
    "lm_lasso = linear_model.LassoCV(alphas = [0.00001, 0.00005, 0.0001, 0.0005, 0.001, 0.005, 0.01,\n",
    "                                          0.05, 0.1, 1, 5, 10, 15, 25],\n",
    "                                normalize = True, \n",
    "                                cv = 10\n",
    "                               )\n",
    "\n",
    "model_3 = lm_lasso.fit(Xtrain, ytrain)\n",
    "\n",
    "print('Score model_3:', model_3.score(Xtest, ytest))"
   ]
  },
  {
   "cell_type": "code",
   "execution_count": null,
   "id": "b8f25bbf-f827-4571-8102-a22b5092d3fa",
   "metadata": {},
   "outputs": [],
   "source": []
  },
  {
   "cell_type": "code",
   "execution_count": null,
   "id": "f704ed61-53ac-47ca-8a5e-b8e835dad0ff",
   "metadata": {},
   "outputs": [],
   "source": []
  }
 ],
 "metadata": {
  "kernelspec": {
   "display_name": "Python 3 (ipykernel)",
   "language": "python",
   "name": "python3"
  },
  "language_info": {
   "codemirror_mode": {
    "name": "ipython",
    "version": 3
   },
   "file_extension": ".py",
   "mimetype": "text/x-python",
   "name": "python",
   "nbconvert_exporter": "python",
   "pygments_lexer": "ipython3",
   "version": "3.9.12"
  }
 },
 "nbformat": 4,
 "nbformat_minor": 5
}
